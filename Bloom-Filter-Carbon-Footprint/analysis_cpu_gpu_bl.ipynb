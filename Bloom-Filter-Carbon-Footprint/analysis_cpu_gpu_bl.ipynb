{
 "cells": [
  {
   "cell_type": "code",
   "execution_count": null,
   "id": "8478c2e7-569c-426c-936b-4bc1982dc6b1",
   "metadata": {},
   "outputs": [],
   "source": [
    "import pandas as pd\n",
    "import numpy as np\n",
    "import seaborn as sns\n",
    "import matplotlib.pyplot as plt\n",
    "import statsmodels.api as sm\n",
    "from statsmodels.formula.api import ols\n",
    "from scipy.stats import kruskal\n",
    "from itertools import product"
   ]
  },
  {
   "cell_type": "code",
   "execution_count": null,
   "id": "24c060b7-8c63-4a8c-8d90-8021b4d72839",
   "metadata": {},
   "outputs": [],
   "source": [
    "df1=pd.read_csv('carbon_cpu_bl.csv')\n",
    "df2=pd.read_csv('carbon_gpu_bl.csv')\n",
    "\n",
    "df_merged = pd.merge(df1, df2, left_index=True, right_index=True)"
   ]
  },
  {
   "cell_type": "code",
   "execution_count": null,
   "id": "a443b9cc-a67e-4f90-b05c-2a5cdb51584b",
   "metadata": {},
   "outputs": [],
   "source": [
    "def get_plots(df,col,group='method'):\n",
    "    plt.figure(figsize=(10, 6))\n",
    "    sns.histplot(data=df, x=col, hue=group, element=\"step\", kde=True)\n",
    "    plt.title('Histogram')\n",
    "    plt.xlabel(col)\n",
    "    plt.ylabel('Frequency')\n",
    "    \n",
    "    plt.show()\n",
    "    plt.figure(figsize=(10, 6))\n",
    "    sns.boxplot(data=df, x=group, y=col)\n",
    "    plt.title('Boxplot')\n",
    "    plt.xlabel(group)\n",
    "    plt.ylabel(col)\n",
    "    plt.show()"
   ]
  },
  {
   "cell_type": "code",
   "execution_count": null,
   "id": "dfe64277-c1af-4224-88a6-7a8deb1ac276",
   "metadata": {},
   "outputs": [],
   "source": [
    "cols=['emissions','emissions_rate', 'cpu_power', 'gpu_power', 'cpu_energy',\n",
    "       'gpu_energy', 'ram_energy', 'energy_consumed']"
   ]
  },
  {
   "cell_type": "code",
   "execution_count": null,
   "id": "f41141fc-11f9-414d-9a6b-895a3f99a96b",
   "metadata": {},
   "outputs": [],
   "source": [
    "for col in cols:\n",
    "    get_plots(df_merged,col)\n",
    "    get_plots(df_merged,'running_method')\n",
    "    get_plots(df_merged,'running')\n",
    "    "
   ]
  },
  {
   "cell_type": "code",
   "execution_count": null,
   "id": "9cb31555-6536-45db-918a-0848925a5cbb",
   "metadata": {},
   "outputs": [],
   "source": [
    "def get_scatterplot(df,x,y,group='method'):\n",
    "    plt.figure(figsize=(10, 6))\n",
    "    sns.scatterplot(data=df, x=x, y=y, hue=group)\n",
    "    plt.title('Scatter plot')\n",
    "    plt.xlabel(x)\n",
    "    plt.ylabel(y)\n",
    "    plt.legend(title=group)\n",
    "    plt.show()"
   ]
  },
  {
   "cell_type": "code",
   "execution_count": null,
   "id": "47bf6fc8-2704-498e-8e9d-758f481facfb",
   "metadata": {},
   "outputs": [],
   "source": [
    "get_scatterplot(df_merged,'duration','emissions')"
   ]
  },
  {
   "cell_type": "code",
   "execution_count": null,
   "id": "da61cd59-b876-4403-9593-a5f5f9ffaadc",
   "metadata": {},
   "outputs": [],
   "source": [
    "get_scatterplot(df_merged,'duration','energy_consumed')"
   ]
  },
  {
   "cell_type": "code",
   "execution_count": null,
   "id": "f9e7493c-b2d4-404b-937d-2fbe063ab857",
   "metadata": {},
   "outputs": [],
   "source": [
    "get_scatterplot(df_merged,'cpu_energy','gpu_energy')"
   ]
  },
  {
   "cell_type": "code",
   "execution_count": null,
   "id": "e995568a-98ac-47b2-8f25-e4ede8eb00e5",
   "metadata": {},
   "outputs": [],
   "source": [
    "get_scatterplot(df_merged,'cpu_energy','ram_energy')"
   ]
  },
  {
   "cell_type": "code",
   "execution_count": null,
   "id": "7110fd2e-6989-4708-8475-0b00d5f96cba",
   "metadata": {},
   "outputs": [],
   "source": [
    "get_scatterplot(df_merged,'gpu_energy','ram_energy')"
   ]
  },
  {
   "cell_type": "code",
   "execution_count": null,
   "id": "3a4e9c01-8c26-4530-94aa-774e5f79eb53",
   "metadata": {},
   "outputs": [],
   "source": [
    "## anova test\n",
    "model = ols('emissions_rate ~ C(method) + C(running_method) + C(running) + C(stage)', data=df_merged).fit()\n",
    "anova_table = sm.stats.anova_lm(model, typ=2)\n",
    "\n",
    "print(anova_table)"
   ]
  },
  {
   "cell_type": "code",
   "execution_count": null,
   "id": "070cb489-21b3-43c3-a5ca-16d0b3095793",
   "metadata": {},
   "outputs": [],
   "source": [
    "## anova with blocks\n",
    "def anova_with_blocks(df, test_var, block_vars):\n",
    "    formula = f'emissions_rate ~ C({test_var})'\n",
    "    for var in block_vars:\n",
    "        formula += f' + C({var})'\n",
    "\n",
    "    model = ols(formula, data=df).fit()\n",
    "    anova_table = sm.stats.anova_lm(model, typ=2)\n",
    "    return anova_table"
   ]
  },
  {
   "cell_type": "code",
   "execution_count": null,
   "id": "573ee350-f9e0-4501-8183-151db0c8068b",
   "metadata": {},
   "outputs": [],
   "source": [
    "block_vars = ['running_method', 'stage', 'running']\n",
    "anova_results = anova_with_blocks(df_merged, 'method', block_vars)\n",
    "print(anova_results)"
   ]
  },
  {
   "cell_type": "code",
   "execution_count": null,
   "id": "2a7f3217-a8e2-4953-a847-74b3448ad9e3",
   "metadata": {},
   "outputs": [],
   "source": [
    "block_vars = ['method', 'stage', 'running']\n",
    "anova_results = anova_with_blocks(df_merged, 'running_method', block_vars)\n",
    "print(anova_results)"
   ]
  },
  {
   "cell_type": "code",
   "execution_count": null,
   "id": "a504a2d0-f620-4a5c-bdc0-ee02f520fdc9",
   "metadata": {},
   "outputs": [],
   "source": [
    "block_vars = ['method', 'running_method', 'running']\n",
    "anova_results = anova_with_blocks(df_merged, 'stage', block_vars)\n",
    "print(anova_results)"
   ]
  },
  {
   "cell_type": "code",
   "execution_count": null,
   "id": "5ce51a77-71f1-48b9-ad6f-f718a96fc3ec",
   "metadata": {},
   "outputs": [],
   "source": [
    "block_vars = ['method', 'running_method', 'stage']\n",
    "anova_results = anova_with_blocks(df_merged, 'running', block_vars)\n",
    "print(anova_results)"
   ]
  },
  {
   "cell_type": "code",
   "execution_count": null,
   "id": "717b84d7-7872-4a10-bbac-bb31ed9c454b",
   "metadata": {},
   "outputs": [],
   "source": [
    "##Kruskal Wallis test\n",
    "methods = ['bloom_filter', 'disjoint_Ada_BF', 'learned_bf', 'Ada_BF']\n",
    "running_methods = ['seq', 'parallel']\n",
    "stages = ['training', 'test']\n",
    "runnings = ['cpu', 'gpu']\n",
    "\n",
    "def kruskal_wallis_test(df,category, groups):\n",
    "    data_groups = [df[df[category] == group]['emissions_rate'] for group in groups]\n",
    "    stat, p = kruskal(*data_groups)\n",
    "    print(f\"Kruskal-Wallis test for {category}: H-statistic = {stat:.3f}, p-value = {p:.3f}\")\n",
    "\n",
    "#test for each category\n",
    "kruskal_wallis_test(df_merged,'method', methods)\n",
    "kruskal_wallis_test(df_merged,'running_method', running_methods)\n",
    "kruskal_wallis_test(df_merged,'stage', stages)\n",
    "kruskal_wallis_test(df_merged,'running', runnings)"
   ]
  },
  {
   "cell_type": "code",
   "execution_count": null,
   "id": "29c16329-9112-4fd4-ab17-6f1371a14cf8",
   "metadata": {},
   "outputs": [],
   "source": [
    "def get_kruskal_test(blocking_vars, test_var, test_categories):\n",
    "    for values in product(*blocking_vars.values()):\n",
    "        conditions = [(df[var] == value) for var, value in zip(blocking_vars.keys(), values)]\n",
    "        filtered_df = df[conditions[0]]\n",
    "        for condition in conditions[1:]:\n",
    "            filtered_df = filtered_df[condition]\n",
    "        if len(filtered_df) > 1:\n",
    "            groups = [filtered_df[filtered_df[test_var] == cat]['emissions_rate'] for cat in test_categories]\n",
    "            if all(len(group) > 1 for group in groups):  # Ensure enough data in each group\n",
    "                stat, p = kruskal(*groups)\n",
    "                print(f'Kruskal-Wallis Test for {test_var} with blocking variables {values}:')\n",
    "                print(f'H-statistic = {stat:.3f}, p-value = {p:.3f}\\n')\n",
    "\n",
    "blocking_vars_list = [\n",
    "    {'running_method': running_methods, 'stage': stages, 'running': runnings},\n",
    "    {'method': methods, 'stage': stages, 'running': runnings},\n",
    "    {'method': methods, 'running_method': running_methods, 'running': runnings},\n",
    "    {'method': methods, 'running_method': running_methods, 'stage': stages}\n",
    "]\n",
    "\n",
    "test_vars = ['method', 'running_method', 'stage', 'running']\n",
    "test_categories_list = [methods, running_methods, stages, runnings]\n",
    "\n",
    "for blocking_vars, test_var, test_categories in zip(blocking_vars_list, test_vars, test_categories_list):\n",
    "    get_kruskal_test(blocking_vars, test_var, test_categories)"
   ]
  }
 ],
 "metadata": {
  "kernelspec": {
   "display_name": "Python 3 (ipykernel)",
   "language": "python",
   "name": "python3"
  },
  "language_info": {
   "codemirror_mode": {
    "name": "ipython",
    "version": 3
   },
   "file_extension": ".py",
   "mimetype": "text/x-python",
   "name": "python",
   "nbconvert_exporter": "python",
   "pygments_lexer": "ipython3",
   "version": "3.11.5"
  }
 },
 "nbformat": 4,
 "nbformat_minor": 5
}
