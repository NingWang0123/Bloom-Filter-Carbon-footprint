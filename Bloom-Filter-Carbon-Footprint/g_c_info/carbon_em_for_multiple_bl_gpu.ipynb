{
 "cells": [
  {
   "cell_type": "code",
   "execution_count": 3,
   "metadata": {
    "colab": {
     "base_uri": "https://localhost:8080/"
    },
    "id": "JWfj0dAxRXwo",
    "outputId": "4f7f06b7-536b-41cb-ed68-ee949058b396"
   },
   "outputs": [
    {
     "name": "stderr",
     "output_type": "stream",
     "text": [
      "[codecarbon INFO @ 02:36:53] [setup] RAM Tracking...\n",
      "[codecarbon INFO @ 02:36:53] [setup] GPU Tracking...\n",
      "[codecarbon INFO @ 02:36:53] Tracking Nvidia GPU via pynvml\n",
      "[codecarbon INFO @ 02:36:53] [setup] CPU Tracking...\n",
      "[codecarbon WARNING @ 02:36:53] No CPU tracking mode found. Falling back on CPU constant mode.\n",
      "[codecarbon WARNING @ 02:36:55] We saw that you have a Intel(R) Xeon(R) CPU @ 2.30GHz but we don't know it. Please contact us.\n",
      "[codecarbon INFO @ 02:36:55] CPU Model on constant consumption mode: Intel(R) Xeon(R) CPU @ 2.30GHz\n",
      "[codecarbon INFO @ 02:36:55] >>> Tracker's metadata:\n",
      "[codecarbon INFO @ 02:36:55]   Platform system: Linux-5.15.120+-x86_64-with-glibc2.35\n",
      "[codecarbon INFO @ 02:36:55]   Python version: 3.10.12\n",
      "[codecarbon INFO @ 02:36:55]   CodeCarbon version: 2.3.1\n",
      "[codecarbon INFO @ 02:36:55]   Available RAM : 12.678 GB\n",
      "[codecarbon INFO @ 02:36:55]   CPU count: 2\n",
      "[codecarbon INFO @ 02:36:55]   CPU model: Intel(R) Xeon(R) CPU @ 2.30GHz\n",
      "[codecarbon INFO @ 02:36:55]   GPU count: 1\n",
      "[codecarbon INFO @ 02:36:55]   GPU model: 1 x Tesla T4\n"
     ]
    }
   ],
   "source": [
    "import pandas as pd\n",
    "import math\n",
    "import numpy as np\n",
    "import time\n",
    "from codecarbon import EmissionsTracker\n",
    "tracker = EmissionsTracker()"
   ]
  },
  {
   "cell_type": "code",
   "execution_count": 5,
   "metadata": {
    "id": "BsNzL4lGUv1h"
   },
   "outputs": [],
   "source": [
    "from Bloom_filter import BloomFilter\n",
    "import PLBF\n",
    "import disjoint_Ada_BF\n",
    "import learned_Bloom_filter"
   ]
  },
  {
   "cell_type": "code",
   "execution_count": null,
   "metadata": {
    "colab": {
     "base_uri": "https://localhost:8080/"
    },
    "id": "UBj7lA9Ve7rs",
    "outputId": "5229a9c2-4c2d-4af3-9622-752230ebbeb5"
   },
   "outputs": [
    {
     "name": "stderr",
     "output_type": "stream",
     "text": [
      "[codecarbon WARNING @ 06:08:42] Already started tracking\n"
     ]
    },
    {
     "name": "stdout",
     "output_type": "stream",
     "text": [
      "Threshold: 0.500000, False positive items: 3647\n",
      "Threshold: 0.510000, False positive items: 3569\n"
     ]
    },
    {
     "name": "stderr",
     "output_type": "stream",
     "text": [
      "[codecarbon INFO @ 06:08:49] Energy consumed for RAM : 0.000079 kWh. RAM Power : 4.7543792724609375 W\n",
      "[codecarbon INFO @ 06:08:49] Energy consumed for all CPUs : 0.000709 kWh. Total CPU Power : 42.5 W\n",
      "[codecarbon INFO @ 06:08:49] 0.000788 kWh of electricity used since the beginning.\n"
     ]
    },
    {
     "name": "stdout",
     "output_type": "stream",
     "text": [
      "Threshold: 0.520000, False positive items: 3528\n",
      "Threshold: 0.530000, False positive items: 3502\n",
      "Threshold: 0.540000, False positive items: 3492\n",
      "Threshold: 0.550000, False positive items: 3378\n",
      "Threshold: 0.560000, False positive items: 3418\n",
      "Threshold: 0.570000, False positive items: 3338\n",
      "Threshold: 0.580000, False positive items: 3453\n",
      "Threshold: 0.590000, False positive items: 3541\n"
     ]
    },
    {
     "name": "stderr",
     "output_type": "stream",
     "text": [
      "[codecarbon INFO @ 06:09:04] Energy consumed for RAM : 0.000099 kWh. RAM Power : 4.7543792724609375 W\n",
      "[codecarbon INFO @ 06:09:04] Energy consumed for all CPUs : 0.000886 kWh. Total CPU Power : 42.5 W\n",
      "[codecarbon INFO @ 06:09:04] 0.000985 kWh of electricity used since the beginning.\n"
     ]
    },
    {
     "name": "stdout",
     "output_type": "stream",
     "text": [
      "Threshold: 0.600000, False positive items: 3607\n",
      "Threshold: 0.610000, False positive items: 3605\n",
      "Threshold: 0.620000, False positive items: 3676\n",
      "Threshold: 0.630000, False positive items: 3665\n",
      "Threshold: 0.640000, False positive items: 3777\n",
      "Threshold: 0.650000, False positive items: 3808\n",
      "Threshold: 0.660000, False positive items: 3940\n",
      "Threshold: 0.670000, False positive items: 4087\n",
      "Threshold: 0.680000, False positive items: 4183\n"
     ]
    },
    {
     "name": "stderr",
     "output_type": "stream",
     "text": [
      "[codecarbon INFO @ 06:09:19] Energy consumed for RAM : 0.000119 kWh. RAM Power : 4.7543792724609375 W\n",
      "[codecarbon INFO @ 06:09:19] Energy consumed for all CPUs : 0.001063 kWh. Total CPU Power : 42.5 W\n",
      "[codecarbon INFO @ 06:09:19] 0.001182 kWh of electricity used since the beginning.\n"
     ]
    },
    {
     "name": "stdout",
     "output_type": "stream",
     "text": [
      "Threshold: 0.690000, False positive items: 4526\n",
      "Threshold: 0.700000, False positive items: 4571\n",
      "Threshold: 0.710000, False positive items: 4801\n",
      "Threshold: 0.720000, False positive items: 4894\n",
      "Threshold: 0.730000, False positive items: 5148\n",
      "Threshold: 0.740000, False positive items: 5311\n",
      "Threshold: 0.750000, False positive items: 5578\n",
      "Threshold: 0.760000, False positive items: 5765\n",
      "Threshold: 0.770000, False positive items: 6006\n",
      "Threshold: 0.780000, False positive items: 6148\n",
      "Threshold: 0.790000, False positive items: 6290\n"
     ]
    },
    {
     "name": "stderr",
     "output_type": "stream",
     "text": [
      "[codecarbon INFO @ 06:09:34] Energy consumed for RAM : 0.000139 kWh. RAM Power : 4.7543792724609375 W\n",
      "[codecarbon INFO @ 06:09:34] Energy consumed for all CPUs : 0.001240 kWh. Total CPU Power : 42.5 W\n",
      "[codecarbon INFO @ 06:09:34] 0.001378 kWh of electricity used since the beginning.\n"
     ]
    },
    {
     "name": "stdout",
     "output_type": "stream",
     "text": [
      "Threshold: 0.800000, False positive items: 6748\n",
      "Threshold: 0.810000, False positive items: 7255\n",
      "Threshold: 0.820000, False positive items: 7552\n",
      "Threshold: 0.830000, False positive items: 7986\n",
      "Threshold: 0.840000, False positive items: 8075\n",
      "Threshold: 0.850000, False positive items: 8157\n",
      "Threshold: 0.860000, False positive items: 8664\n",
      "Threshold: 0.870000, False positive items: 8921\n",
      "Threshold: 0.880000, False positive items: 9173\n",
      "Threshold: 0.890000, False positive items: 9666\n",
      "Threshold: 0.900000, False positive items: 10068\n"
     ]
    },
    {
     "name": "stderr",
     "output_type": "stream",
     "text": [
      "[codecarbon INFO @ 06:09:49] Energy consumed for RAM : 0.000158 kWh. RAM Power : 4.7543792724609375 W\n",
      "[codecarbon INFO @ 06:09:49] Energy consumed for all CPUs : 0.001417 kWh. Total CPU Power : 42.5 W\n",
      "[codecarbon INFO @ 06:09:49] 0.001575 kWh of electricity used since the beginning.\n",
      "[codecarbon INFO @ 06:09:52] Energy consumed for RAM : 0.000163 kWh. RAM Power : 4.7543792724609375 W\n",
      "[codecarbon INFO @ 06:09:52] Energy consumed for all CPUs : 0.001456 kWh. Total CPU Power : 42.5 W\n",
      "[codecarbon INFO @ 06:09:52] 0.001619 kWh of electricity used since the beginning.\n"
     ]
    },
    {
     "name": "stdout",
     "output_type": "stream",
     "text": [
      "False positive items: 11224\n",
      "CPU times: user 1min 9s, sys: 171 ms, total: 1min 9s\n",
      "Wall time: 1min 10s\n"
     ]
    },
    {
     "data": {
      "text/plain": [
       "0.0005654121567420516"
      ]
     },
     "execution_count": 23,
     "metadata": {},
     "output_type": "execute_result"
    }
   ],
   "source": [
    "##CPU used only\n",
    "##learned_Bloom_filter from https://github.com/DAIZHENWEI/Ada-BF\n",
    "%%time\n",
    "tracker.start()\n",
    "DATA_PATH = 'datasets/URL_data.csv'\n",
    "min_thres = 0.5\n",
    "max_thres = 0.9\n",
    "R_sum = 200000\n",
    "data = pd.read_csv(DATA_PATH)\n",
    "negative_sample = data.loc[(data['label']==-1)]\n",
    "positive_sample = data.loc[(data['label']==1)]\n",
    "train_negative = negative_sample.sample(frac = 0.3)\n",
    "'''Stage 1: Find the hyper-parameters (spare 30% samples to find the parameters)'''\n",
    "bloom_filter_opt, thres_opt = learned_Bloom_filter.Find_Optimal_Parameters(max_thres, min_thres, R_sum, train_negative, positive_sample)\n",
    "'''Stage 2: Run Ada-BF on all the samples'''\n",
    "### Test URLs\n",
    "ML_positive = negative_sample.loc[(negative_sample['score'] > thres_opt), 'url']\n",
    "bloom_negative = negative_sample.loc[(negative_sample['score'] <= thres_opt), 'url']\n",
    "score_negative = negative_sample.loc[(negative_sample['score'] < thres_opt), 'score']\n",
    "BF_positive = bloom_filter_opt.test(bloom_negative, single_key = False)\n",
    "FP_items = sum(BF_positive) + len(ML_positive)\n",
    "print('False positive items: %d' % FP_items)\n",
    "tracker.stop()\n",
    "\n"
   ]
  },
  {
   "cell_type": "code",
   "execution_count": 6,
   "metadata": {
    "colab": {
     "base_uri": "https://localhost:8080/"
    },
    "id": "ty067trYGcEI",
    "outputId": "8dd2765f-9939-4732-995a-07997bcd8bff"
   },
   "outputs": [
    {
     "name": "stdout",
     "output_type": "stream",
     "text": [
      "Threshold: 0.500000, False positive items: 3522\n",
      "Threshold: 0.510000, False positive items: 3486\n",
      "Threshold: 0.520000, False positive items: 3481\n",
      "Threshold: 0.530000, False positive items: 3396\n",
      "Threshold: 0.540000, False positive items: 3420\n",
      "Threshold: 0.550000, False positive items: 3348\n",
      "Threshold: 0.560000, False positive items: 3333\n",
      "Threshold: 0.570000, False positive items: 3309\n"
     ]
    },
    {
     "name": "stderr",
     "output_type": "stream",
     "text": [
      "[codecarbon INFO @ 02:40:52] Energy consumed for RAM : 0.000020 kWh. RAM Power : 4.7543792724609375 W\n",
      "[codecarbon INFO @ 02:40:52] Energy consumed for all GPUs : 0.000042 kWh. Total GPU Power : 10.013048763859759 W\n",
      "[codecarbon INFO @ 02:40:52] Energy consumed for all CPUs : 0.000178 kWh. Total CPU Power : 42.5 W\n",
      "[codecarbon INFO @ 02:40:52] 0.000240 kWh of electricity used since the beginning.\n"
     ]
    },
    {
     "name": "stdout",
     "output_type": "stream",
     "text": [
      "Threshold: 0.580000, False positive items: 3415\n",
      "Threshold: 0.590000, False positive items: 3508\n",
      "Threshold: 0.600000, False positive items: 3498\n",
      "Threshold: 0.610000, False positive items: 3617\n",
      "Threshold: 0.620000, False positive items: 3613\n",
      "Threshold: 0.630000, False positive items: 3649\n",
      "Threshold: 0.640000, False positive items: 3828\n",
      "Threshold: 0.650000, False positive items: 3911\n",
      "Threshold: 0.660000, False positive items: 3739\n"
     ]
    },
    {
     "name": "stderr",
     "output_type": "stream",
     "text": [
      "[codecarbon INFO @ 02:41:07] Energy consumed for RAM : 0.000040 kWh. RAM Power : 4.7543792724609375 W\n",
      "[codecarbon INFO @ 02:41:07] Energy consumed for all GPUs : 0.000084 kWh. Total GPU Power : 10.028825117184551 W\n",
      "[codecarbon INFO @ 02:41:07] Energy consumed for all CPUs : 0.000355 kWh. Total CPU Power : 42.5 W\n",
      "[codecarbon INFO @ 02:41:07] 0.000478 kWh of electricity used since the beginning.\n"
     ]
    },
    {
     "name": "stdout",
     "output_type": "stream",
     "text": [
      "Threshold: 0.670000, False positive items: 3951\n",
      "Threshold: 0.680000, False positive items: 4090\n",
      "Threshold: 0.690000, False positive items: 4433\n",
      "Threshold: 0.700000, False positive items: 4581\n",
      "Threshold: 0.710000, False positive items: 4922\n",
      "Threshold: 0.720000, False positive items: 4892\n",
      "Threshold: 0.730000, False positive items: 5110\n",
      "Threshold: 0.740000, False positive items: 5246\n",
      "Threshold: 0.750000, False positive items: 5471\n",
      "Threshold: 0.760000, False positive items: 5755\n",
      "Threshold: 0.770000, False positive items: 5741\n"
     ]
    },
    {
     "name": "stderr",
     "output_type": "stream",
     "text": [
      "[codecarbon INFO @ 02:41:22] Energy consumed for RAM : 0.000059 kWh. RAM Power : 4.7543792724609375 W\n",
      "[codecarbon INFO @ 02:41:22] Energy consumed for all GPUs : 0.000125 kWh. Total GPU Power : 9.948972837062906 W\n",
      "[codecarbon INFO @ 02:41:22] Energy consumed for all CPUs : 0.000532 kWh. Total CPU Power : 42.5 W\n",
      "[codecarbon INFO @ 02:41:22] 0.000716 kWh of electricity used since the beginning.\n"
     ]
    },
    {
     "name": "stdout",
     "output_type": "stream",
     "text": [
      "Threshold: 0.780000, False positive items: 6432\n",
      "Threshold: 0.790000, False positive items: 6320\n",
      "Threshold: 0.800000, False positive items: 6641\n",
      "Threshold: 0.810000, False positive items: 7312\n",
      "Threshold: 0.820000, False positive items: 7567\n",
      "Threshold: 0.830000, False positive items: 7813\n",
      "Threshold: 0.840000, False positive items: 8077\n",
      "Threshold: 0.850000, False positive items: 8151\n",
      "Threshold: 0.860000, False positive items: 8560\n",
      "Threshold: 0.870000, False positive items: 8882\n",
      "Threshold: 0.880000, False positive items: 9236\n",
      "Threshold: 0.890000, False positive items: 9590\n",
      "Threshold: 0.900000, False positive items: 9972\n"
     ]
    },
    {
     "name": "stderr",
     "output_type": "stream",
     "text": [
      "[codecarbon INFO @ 02:41:37] Energy consumed for RAM : 0.000079 kWh. RAM Power : 4.7543792724609375 W\n",
      "[codecarbon INFO @ 02:41:37] Energy consumed for all GPUs : 0.000167 kWh. Total GPU Power : 9.995001873276879 W\n",
      "[codecarbon INFO @ 02:41:37] Energy consumed for all CPUs : 0.000710 kWh. Total CPU Power : 42.5 W\n",
      "[codecarbon INFO @ 02:41:37] 0.000955 kWh of electricity used since the beginning.\n",
      "[codecarbon INFO @ 02:41:41] Energy consumed for RAM : 0.000084 kWh. RAM Power : 4.7543792724609375 W\n",
      "[codecarbon INFO @ 02:41:41] Energy consumed for all GPUs : 0.000177 kWh. Total GPU Power : 9.911023924639984 W\n",
      "[codecarbon INFO @ 02:41:41] Energy consumed for all CPUs : 0.000755 kWh. Total CPU Power : 42.5 W\n",
      "[codecarbon INFO @ 02:41:41] 0.001016 kWh of electricity used since the beginning.\n"
     ]
    },
    {
     "name": "stdout",
     "output_type": "stream",
     "text": [
      "False positive items: 11313\n",
      "CPU times: user 1min 3s, sys: 241 ms, total: 1min 3s\n",
      "Wall time: 1min 3s\n"
     ]
    },
    {
     "data": {
      "text/plain": [
       "0.0004598825082539998"
      ]
     },
     "execution_count": 6,
     "metadata": {},
     "output_type": "execute_result"
    }
   ],
   "source": [
    "## use T4 gpu\n",
    "##learned_Bloom_filter from https://github.com/DAIZHENWEI/Ada-BF\n",
    "%%time\n",
    "tracker.start()\n",
    "DATA_PATH = 'datasets/URL_data.csv'\n",
    "min_thres = 0.5\n",
    "max_thres = 0.9\n",
    "R_sum = 200000\n",
    "data = pd.read_csv(DATA_PATH)\n",
    "negative_sample = data.loc[(data['label']==-1)]\n",
    "positive_sample = data.loc[(data['label']==1)]\n",
    "train_negative = negative_sample.sample(frac = 0.3)\n",
    "'''Stage 1: Find the hyper-parameters (spare 30% samples to find the parameters)'''\n",
    "bloom_filter_opt, thres_opt = learned_Bloom_filter.Find_Optimal_Parameters(max_thres, min_thres, R_sum, train_negative, positive_sample)\n",
    "'''Stage 2: Run Ada-BF on all the samples'''\n",
    "### Test URLs\n",
    "ML_positive = negative_sample.loc[(negative_sample['score'] > thres_opt), 'url']\n",
    "bloom_negative = negative_sample.loc[(negative_sample['score'] <= thres_opt), 'url']\n",
    "score_negative = negative_sample.loc[(negative_sample['score'] < thres_opt), 'score']\n",
    "BF_positive = bloom_filter_opt.test(bloom_negative, single_key = False)\n",
    "FP_items = sum(BF_positive) + len(ML_positive)\n",
    "print('False positive items: %d' % FP_items)\n",
    "tracker.stop()"
   ]
  },
  {
   "cell_type": "code",
   "execution_count": null,
   "metadata": {
    "colab": {
     "base_uri": "https://localhost:8080/"
    },
    "id": "k3yyj-ZdkuI6",
    "outputId": "05dd224f-0cfa-4ba5-9968-2fe3d32c7c13"
   },
   "outputs": [
    {
     "name": "stderr",
     "output_type": "stream",
     "text": [
      "[codecarbon WARNING @ 06:26:35] Already started tracking\n"
     ]
    },
    {
     "name": "stdout",
     "output_type": "stream",
     "text": [
      "False positive items: 2010, Number of groups: 8, c = 1.800000\n",
      "False positive items: 1988, Number of groups: 8, c = 1.900000\n",
      "False positive items: 2080, Number of groups: 8, c = 2.000000\n",
      "False positive items: 2060, Number of groups: 8, c = 2.100000\n",
      "False positive items: 1908, Number of groups: 9, c = 1.800000\n",
      "False positive items: 1878, Number of groups: 9, c = 1.900000\n",
      "False positive items: 1941, Number of groups: 9, c = 2.000000\n",
      "False positive items: 2087, Number of groups: 9, c = 2.100000\n",
      "False positive items: 1939, Number of groups: 10, c = 1.800000\n",
      "False positive items: 1958, Number of groups: 10, c = 1.900000\n",
      "False positive items: 1905, Number of groups: 10, c = 2.000000\n",
      "False positive items: 1942, Number of groups: 10, c = 2.100000\n",
      "False positive items: 1936, Number of groups: 11, c = 1.800000\n",
      "False positive items: 1893, Number of groups: 11, c = 1.900000\n",
      "False positive items: 1912, Number of groups: 11, c = 2.000000\n",
      "False positive items: 2023, Number of groups: 11, c = 2.100000\n",
      "False positive items: 1900, Number of groups: 12, c = 1.800000\n",
      "False positive items: 1886, Number of groups: 12, c = 1.900000\n",
      "False positive items: 1927, Number of groups: 12, c = 2.000000\n",
      "False positive items: 1947, Number of groups: 12, c = 2.100000\n"
     ]
    },
    {
     "name": "stderr",
     "output_type": "stream",
     "text": [
      "[codecarbon WARNING @ 06:27:51] Tracker already stopped !\n",
      "[codecarbon WARNING @ 06:27:51] Background scheduler didn't run for a long period (1078s), results might be inaccurate\n",
      "[codecarbon INFO @ 06:27:51] Energy consumed for RAM : 0.001588 kWh. RAM Power : 4.7543792724609375 W\n",
      "[codecarbon INFO @ 06:27:51] Energy consumed for all CPUs : 0.014192 kWh. Total CPU Power : 42.5 W\n",
      "[codecarbon INFO @ 06:27:51] 0.015779 kWh of electricity used since the beginning.\n"
     ]
    },
    {
     "name": "stdout",
     "output_type": "stream",
     "text": [
      "False positive items: 6517.0; FPR: 0.01895490611257184; Size of quries: 343816\n",
      "CPU times: user 1min 15s, sys: 184 ms, total: 1min 15s\n",
      "Wall time: 1min 16s\n"
     ]
    },
    {
     "data": {
      "text/plain": [
       "0.005510582065832374"
      ]
     },
     "execution_count": 25,
     "metadata": {},
     "output_type": "execute_result"
    }
   ],
   "source": [
    "##disjoint_Ada-BF from https://github.com/DAIZHENWEI/Ada-BF\n",
    "%%time\n",
    "tracker.start()\n",
    "DATA_PATH = 'datasets/URL_data.csv'\n",
    "num_group_min = 8\n",
    "num_group_max = 12\n",
    "R_sum = 200000\n",
    "c_min = 1.8\n",
    "c_max = 2.1\n",
    "data = pd.read_csv(DATA_PATH)\n",
    "negative_sample = data.loc[(data['label']==-1)]\n",
    "positive_sample = data.loc[(data['label']==1)]\n",
    "train_negative = negative_sample.sample(frac = 0.3)\n",
    "'''Stage 1: Find the hyper-parameters'''\n",
    "Bloom_Filters_opt, thresholds_opt, non_empty_ix_opt = disjoint_Ada_BF.Find_Optimal_Parameters(c_min, c_max, num_group_min, num_group_max, R_sum, train_negative, positive_sample)\n",
    "'''Stage 2: Run Ada-BF on all the samples'''\n",
    "### Test URLs\n",
    "ML_positive = negative_sample.loc[(negative_sample['score'] >= thresholds_opt[-2]), 'url']\n",
    "url_negative = negative_sample.loc[(negative_sample['score'] < thresholds_opt[-2]), 'url']\n",
    "score_negative = negative_sample.loc[(negative_sample['score'] < thresholds_opt[-2]), 'score']\n",
    "test_result = np.zeros(len(url_negative))\n",
    "ss = 0\n",
    "for score_s, url_s in zip(score_negative, url_negative):\n",
    "        ix = min(np.where(score_s < thresholds_opt)[0]) - 1\n",
    "        if ix >= non_empty_ix_opt:\n",
    "            test_result[ss] = Bloom_Filters_opt[ix].test(url_s)\n",
    "        else:\n",
    "            test_result[ss] = 0\n",
    "        ss += 1\n",
    "FP_items = sum(test_result) + len(ML_positive)\n",
    "FPR = FP_items/len(url_negative)\n",
    "print('False positive items: {}; FPR: {}; Size of quries: {}'.format(FP_items, FPR, len(url_negative)))\n",
    "tracker.stop()"
   ]
  },
  {
   "cell_type": "code",
   "execution_count": null,
   "metadata": {
    "colab": {
     "base_uri": "https://localhost:8080/"
    },
    "id": "ZMucGwXv1SZV",
    "outputId": "b4258b92-a1fd-4835-d983-83de092083f4"
   },
   "outputs": [
    {
     "name": "stderr",
     "output_type": "stream",
     "text": [
      "[codecarbon WARNING @ 07:33:44] Already started tracking\n",
      "[codecarbon WARNING @ 07:33:48] Tracker already stopped !\n",
      "[codecarbon WARNING @ 07:33:48] Background scheduler didn't run for a long period (3956s), results might be inaccurate\n",
      "[codecarbon INFO @ 07:33:48] Energy consumed for RAM : 0.006813 kWh. RAM Power : 4.7543792724609375 W\n",
      "[codecarbon INFO @ 07:33:48] Energy consumed for all CPUs : 0.060903 kWh. Total CPU Power : 42.5 W\n",
      "[codecarbon INFO @ 07:33:48] 0.067716 kWh of electricity used since the beginning.\n"
     ]
    },
    {
     "name": "stdout",
     "output_type": "stream",
     "text": [
      "False positive items:  81654.0\n",
      "CPU times: user 4.07 s, sys: 56.3 ms, total: 4.12 s\n",
      "Wall time: 4.19 s\n"
     ]
    },
    {
     "data": {
      "text/plain": [
       "0.023648303217209996"
      ]
     },
     "execution_count": 26,
     "metadata": {},
     "output_type": "execute_result"
    }
   ],
   "source": [
    "## Bloom_filter from https://github.com/DAIZHENWEI/Ada-BF\n",
    "%%time\n",
    "tracker.start()\n",
    "DATA_PATH = 'datasets/URL_data.csv'\n",
    "data = pd.read_csv(DATA_PATH)\n",
    "negative_sample = data.loc[(data['label'] == -1)]\n",
    "positive_sample = data.loc[(data['label'] == 1)]\n",
    "url = positive_sample['url']\n",
    "n = len(url)\n",
    "R_sum = 200000\n",
    "bloom_filter = BloomFilter(n, R_sum)\n",
    "bloom_filter.insert(url)\n",
    "url_negative = negative_sample['url']\n",
    "n1 = bloom_filter.test(url_negative, single_key=False)\n",
    "print('False positive items: ', sum(n1))\n",
    "tracker.stop()"
   ]
  },
  {
   "cell_type": "code",
   "execution_count": 9,
   "metadata": {
    "id": "7WUia_xw3O55"
   },
   "outputs": [],
   "source": [
    "def do_bloom_filter(data_path, R_sum):\n",
    "  data = pd.read_csv(data_path)\n",
    "  negative_sample = data.loc[(data['label'] == -1)]\n",
    "  positive_sample = data.loc[(data['label'] == 1)]\n",
    "  url = positive_sample['url']\n",
    "  n = len(url)\n",
    "  bloom_filter = BloomFilter(n, R_sum)\n",
    "  bloom_filter.insert(url)\n",
    "  url_negative = negative_sample['url']\n",
    "  n1 = bloom_filter.test(url_negative, single_key=False)\n",
    "  print('False positive items: ', sum(n1))\n",
    "\n",
    "\n",
    "def do_disjoint_Ada_BF(data_path, num_group_min, num_group_max, c_min, c_max, R_sum):\n",
    "  data = pd.read_csv(data_path)\n",
    "  negative_sample = data.loc[(data['label']==-1)]\n",
    "  positive_sample = data.loc[(data['label']==1)]\n",
    "  train_negative = negative_sample.sample(frac = 0.3)\n",
    "  '''Stage 1: Find the hyper-parameters'''\n",
    "  Bloom_Filters_opt, thresholds_opt, non_empty_ix_opt = disjoint_Ada_BF.Find_Optimal_Parameters(c_min, c_max, num_group_min, num_group_max, R_sum, train_negative, positive_sample)\n",
    "  '''Stage 2: Run Ada-BF on all the samples'''\n",
    "  ### Test URLs\n",
    "  ML_positive = negative_sample.loc[(negative_sample['score'] >= thresholds_opt[-2]), 'url']\n",
    "  url_negative = negative_sample.loc[(negative_sample['score'] < thresholds_opt[-2]), 'url']\n",
    "  score_negative = negative_sample.loc[(negative_sample['score'] < thresholds_opt[-2]), 'score']\n",
    "  test_result = np.zeros(len(url_negative))\n",
    "  ss = 0\n",
    "  for score_s, url_s in zip(score_negative, url_negative):\n",
    "        ix = min(np.where(score_s < thresholds_opt)[0]) - 1\n",
    "        if ix >= non_empty_ix_opt:\n",
    "            test_result[ss] = Bloom_Filters_opt[ix].test(url_s)\n",
    "        else:\n",
    "            test_result[ss] = 0\n",
    "        ss += 1\n",
    "  FP_items = sum(test_result) + len(ML_positive)\n",
    "  FPR = FP_items/len(url_negative)\n",
    "  print('False positive items: {}; FPR: {}; Size of quries: {}'.format(FP_items, FPR, len(url_negative)))\n",
    "\n",
    "def do_learned_bf(data_path, min_thres,max_thres,R_sum):\n",
    "  data = pd.read_csv(data_path)\n",
    "  negative_sample = data.loc[(data['label']==-1)]\n",
    "  positive_sample = data.loc[(data['label']==1)]\n",
    "  train_negative = negative_sample.sample(frac = 0.3)\n",
    "  '''Stage 1: Find the hyper-parameters (spare 30% samples to find the parameters)'''\n",
    "  bloom_filter_opt, thres_opt = learned_Bloom_filter.Find_Optimal_Parameters(max_thres, min_thres, R_sum, train_negative, positive_sample)\n",
    "  '''Stage 2: Run Ada-BF on all the samples'''\n",
    "  ### Test URLs\n",
    "  ML_positive = negative_sample.loc[(negative_sample['score'] > thres_opt), 'url']\n",
    "  bloom_negative = negative_sample.loc[(negative_sample['score'] <= thres_opt), 'url']\n",
    "  score_negative = negative_sample.loc[(negative_sample['score'] < thres_opt), 'score']\n",
    "  BF_positive = bloom_filter_opt.test(bloom_negative, single_key = False)\n",
    "  FP_items = sum(BF_positive) + len(ML_positive)\n",
    "  print('False positive items: %d' % FP_items)\n",
    "\n",
    "  ## all are edited from https://github.com/DAIZHENWEI/Ada-BF"
   ]
  },
  {
   "cell_type": "code",
   "execution_count": 7,
   "metadata": {
    "id": "4kjEnx2DPMk-"
   },
   "outputs": [],
   "source": [
    "def simus(func,num_runs=100):\n",
    "    times = np.zeros(num_runs)\n",
    "    electricity = np.zeros(num_runs)\n",
    "\n",
    "    for i in range(num_runs):\n",
    "        tracker = EmissionsTracker()\n",
    "        start_time = time.time()\n",
    "        tracker.start()\n",
    "        result = func\n",
    "        energy_consumed = tracker.stop()\n",
    "        end_time = time.time()\n",
    "        times[i]=end_time - start_time\n",
    "        electricity[i]=energy_consumed\n",
    "    return pd.DataFrame({'time' : times, 'electricity' : electricity, 'power':electricity/times})"
   ]
  },
  {
   "cell_type": "code",
   "execution_count": null,
   "metadata": {
    "id": "X2ExC2qzTO_O"
   },
   "outputs": [],
   "source": [
    "%%capture\n",
    "def ad(n):\n",
    "   1+n\n",
    "\n",
    "df1 = simus(ad(1), num_runs=2)"
   ]
  },
  {
   "cell_type": "code",
   "execution_count": null,
   "metadata": {
    "colab": {
     "base_uri": "https://localhost:8080/",
     "height": 125
    },
    "id": "0HGf_DBeVrFY",
    "outputId": "b9878a1b-27f2-4012-9a4b-4e58fdda0c48"
   },
   "outputs": [
    {
     "data": {
      "text/html": [
       "\n",
       "  <div id=\"df-b23438a1-5e19-4f68-bdfa-66ffc06f73c8\" class=\"colab-df-container\">\n",
       "    <div>\n",
       "<style scoped>\n",
       "    .dataframe tbody tr th:only-of-type {\n",
       "        vertical-align: middle;\n",
       "    }\n",
       "\n",
       "    .dataframe tbody tr th {\n",
       "        vertical-align: top;\n",
       "    }\n",
       "\n",
       "    .dataframe thead th {\n",
       "        text-align: right;\n",
       "    }\n",
       "</style>\n",
       "<table border=\"1\" class=\"dataframe\">\n",
       "  <thead>\n",
       "    <tr style=\"text-align: right;\">\n",
       "      <th></th>\n",
       "      <th>time</th>\n",
       "      <th>electricity</th>\n",
       "      <th>power</th>\n",
       "    </tr>\n",
       "  </thead>\n",
       "  <tbody>\n",
       "    <tr>\n",
       "      <th>0</th>\n",
       "      <td>0.013619</td>\n",
       "      <td>5.465486e-09</td>\n",
       "      <td>4.013149e-07</td>\n",
       "    </tr>\n",
       "    <tr>\n",
       "      <th>1</th>\n",
       "      <td>0.013144</td>\n",
       "      <td>5.474000e-09</td>\n",
       "      <td>4.164784e-07</td>\n",
       "    </tr>\n",
       "  </tbody>\n",
       "</table>\n",
       "</div>\n",
       "    <div class=\"colab-df-buttons\">\n",
       "\n",
       "  <div class=\"colab-df-container\">\n",
       "    <button class=\"colab-df-convert\" onclick=\"convertToInteractive('df-b23438a1-5e19-4f68-bdfa-66ffc06f73c8')\"\n",
       "            title=\"Convert this dataframe to an interactive table.\"\n",
       "            style=\"display:none;\">\n",
       "\n",
       "  <svg xmlns=\"http://www.w3.org/2000/svg\" height=\"24px\" viewBox=\"0 -960 960 960\">\n",
       "    <path d=\"M120-120v-720h720v720H120Zm60-500h600v-160H180v160Zm220 220h160v-160H400v160Zm0 220h160v-160H400v160ZM180-400h160v-160H180v160Zm440 0h160v-160H620v160ZM180-180h160v-160H180v160Zm440 0h160v-160H620v160Z\"/>\n",
       "  </svg>\n",
       "    </button>\n",
       "\n",
       "  <style>\n",
       "    .colab-df-container {\n",
       "      display:flex;\n",
       "      gap: 12px;\n",
       "    }\n",
       "\n",
       "    .colab-df-convert {\n",
       "      background-color: #E8F0FE;\n",
       "      border: none;\n",
       "      border-radius: 50%;\n",
       "      cursor: pointer;\n",
       "      display: none;\n",
       "      fill: #1967D2;\n",
       "      height: 32px;\n",
       "      padding: 0 0 0 0;\n",
       "      width: 32px;\n",
       "    }\n",
       "\n",
       "    .colab-df-convert:hover {\n",
       "      background-color: #E2EBFA;\n",
       "      box-shadow: 0px 1px 2px rgba(60, 64, 67, 0.3), 0px 1px 3px 1px rgba(60, 64, 67, 0.15);\n",
       "      fill: #174EA6;\n",
       "    }\n",
       "\n",
       "    .colab-df-buttons div {\n",
       "      margin-bottom: 4px;\n",
       "    }\n",
       "\n",
       "    [theme=dark] .colab-df-convert {\n",
       "      background-color: #3B4455;\n",
       "      fill: #D2E3FC;\n",
       "    }\n",
       "\n",
       "    [theme=dark] .colab-df-convert:hover {\n",
       "      background-color: #434B5C;\n",
       "      box-shadow: 0px 1px 3px 1px rgba(0, 0, 0, 0.15);\n",
       "      filter: drop-shadow(0px 1px 2px rgba(0, 0, 0, 0.3));\n",
       "      fill: #FFFFFF;\n",
       "    }\n",
       "  </style>\n",
       "\n",
       "    <script>\n",
       "      const buttonEl =\n",
       "        document.querySelector('#df-b23438a1-5e19-4f68-bdfa-66ffc06f73c8 button.colab-df-convert');\n",
       "      buttonEl.style.display =\n",
       "        google.colab.kernel.accessAllowed ? 'block' : 'none';\n",
       "\n",
       "      async function convertToInteractive(key) {\n",
       "        const element = document.querySelector('#df-b23438a1-5e19-4f68-bdfa-66ffc06f73c8');\n",
       "        const dataTable =\n",
       "          await google.colab.kernel.invokeFunction('convertToInteractive',\n",
       "                                                    [key], {});\n",
       "        if (!dataTable) return;\n",
       "\n",
       "        const docLinkHtml = 'Like what you see? Visit the ' +\n",
       "          '<a target=\"_blank\" href=https://colab.research.google.com/notebooks/data_table.ipynb>data table notebook</a>'\n",
       "          + ' to learn more about interactive tables.';\n",
       "        element.innerHTML = '';\n",
       "        dataTable['output_type'] = 'display_data';\n",
       "        await google.colab.output.renderOutput(dataTable, element);\n",
       "        const docLink = document.createElement('div');\n",
       "        docLink.innerHTML = docLinkHtml;\n",
       "        element.appendChild(docLink);\n",
       "      }\n",
       "    </script>\n",
       "  </div>\n",
       "\n",
       "\n",
       "<div id=\"df-d79b3927-5976-4a6e-9984-a409a27641be\">\n",
       "  <button class=\"colab-df-quickchart\" onclick=\"quickchart('df-d79b3927-5976-4a6e-9984-a409a27641be')\"\n",
       "            title=\"Suggest charts\"\n",
       "            style=\"display:none;\">\n",
       "\n",
       "<svg xmlns=\"http://www.w3.org/2000/svg\" height=\"24px\"viewBox=\"0 0 24 24\"\n",
       "     width=\"24px\">\n",
       "    <g>\n",
       "        <path d=\"M19 3H5c-1.1 0-2 .9-2 2v14c0 1.1.9 2 2 2h14c1.1 0 2-.9 2-2V5c0-1.1-.9-2-2-2zM9 17H7v-7h2v7zm4 0h-2V7h2v10zm4 0h-2v-4h2v4z\"/>\n",
       "    </g>\n",
       "</svg>\n",
       "  </button>\n",
       "\n",
       "<style>\n",
       "  .colab-df-quickchart {\n",
       "      --bg-color: #E8F0FE;\n",
       "      --fill-color: #1967D2;\n",
       "      --hover-bg-color: #E2EBFA;\n",
       "      --hover-fill-color: #174EA6;\n",
       "      --disabled-fill-color: #AAA;\n",
       "      --disabled-bg-color: #DDD;\n",
       "  }\n",
       "\n",
       "  [theme=dark] .colab-df-quickchart {\n",
       "      --bg-color: #3B4455;\n",
       "      --fill-color: #D2E3FC;\n",
       "      --hover-bg-color: #434B5C;\n",
       "      --hover-fill-color: #FFFFFF;\n",
       "      --disabled-bg-color: #3B4455;\n",
       "      --disabled-fill-color: #666;\n",
       "  }\n",
       "\n",
       "  .colab-df-quickchart {\n",
       "    background-color: var(--bg-color);\n",
       "    border: none;\n",
       "    border-radius: 50%;\n",
       "    cursor: pointer;\n",
       "    display: none;\n",
       "    fill: var(--fill-color);\n",
       "    height: 32px;\n",
       "    padding: 0;\n",
       "    width: 32px;\n",
       "  }\n",
       "\n",
       "  .colab-df-quickchart:hover {\n",
       "    background-color: var(--hover-bg-color);\n",
       "    box-shadow: 0 1px 2px rgba(60, 64, 67, 0.3), 0 1px 3px 1px rgba(60, 64, 67, 0.15);\n",
       "    fill: var(--button-hover-fill-color);\n",
       "  }\n",
       "\n",
       "  .colab-df-quickchart-complete:disabled,\n",
       "  .colab-df-quickchart-complete:disabled:hover {\n",
       "    background-color: var(--disabled-bg-color);\n",
       "    fill: var(--disabled-fill-color);\n",
       "    box-shadow: none;\n",
       "  }\n",
       "\n",
       "  .colab-df-spinner {\n",
       "    border: 2px solid var(--fill-color);\n",
       "    border-color: transparent;\n",
       "    border-bottom-color: var(--fill-color);\n",
       "    animation:\n",
       "      spin 1s steps(1) infinite;\n",
       "  }\n",
       "\n",
       "  @keyframes spin {\n",
       "    0% {\n",
       "      border-color: transparent;\n",
       "      border-bottom-color: var(--fill-color);\n",
       "      border-left-color: var(--fill-color);\n",
       "    }\n",
       "    20% {\n",
       "      border-color: transparent;\n",
       "      border-left-color: var(--fill-color);\n",
       "      border-top-color: var(--fill-color);\n",
       "    }\n",
       "    30% {\n",
       "      border-color: transparent;\n",
       "      border-left-color: var(--fill-color);\n",
       "      border-top-color: var(--fill-color);\n",
       "      border-right-color: var(--fill-color);\n",
       "    }\n",
       "    40% {\n",
       "      border-color: transparent;\n",
       "      border-right-color: var(--fill-color);\n",
       "      border-top-color: var(--fill-color);\n",
       "    }\n",
       "    60% {\n",
       "      border-color: transparent;\n",
       "      border-right-color: var(--fill-color);\n",
       "    }\n",
       "    80% {\n",
       "      border-color: transparent;\n",
       "      border-right-color: var(--fill-color);\n",
       "      border-bottom-color: var(--fill-color);\n",
       "    }\n",
       "    90% {\n",
       "      border-color: transparent;\n",
       "      border-bottom-color: var(--fill-color);\n",
       "    }\n",
       "  }\n",
       "</style>\n",
       "\n",
       "  <script>\n",
       "    async function quickchart(key) {\n",
       "      const quickchartButtonEl =\n",
       "        document.querySelector('#' + key + ' button');\n",
       "      quickchartButtonEl.disabled = true;  // To prevent multiple clicks.\n",
       "      quickchartButtonEl.classList.add('colab-df-spinner');\n",
       "      try {\n",
       "        const charts = await google.colab.kernel.invokeFunction(\n",
       "            'suggestCharts', [key], {});\n",
       "      } catch (error) {\n",
       "        console.error('Error during call to suggestCharts:', error);\n",
       "      }\n",
       "      quickchartButtonEl.classList.remove('colab-df-spinner');\n",
       "      quickchartButtonEl.classList.add('colab-df-quickchart-complete');\n",
       "    }\n",
       "    (() => {\n",
       "      let quickchartButtonEl =\n",
       "        document.querySelector('#df-d79b3927-5976-4a6e-9984-a409a27641be button');\n",
       "      quickchartButtonEl.style.display =\n",
       "        google.colab.kernel.accessAllowed ? 'block' : 'none';\n",
       "    })();\n",
       "  </script>\n",
       "</div>\n",
       "\n",
       "  <div id=\"id_2eb96e72-b06f-4e5c-a690-abe5f3b50a01\">\n",
       "    <style>\n",
       "      .colab-df-generate {\n",
       "        background-color: #E8F0FE;\n",
       "        border: none;\n",
       "        border-radius: 50%;\n",
       "        cursor: pointer;\n",
       "        display: none;\n",
       "        fill: #1967D2;\n",
       "        height: 32px;\n",
       "        padding: 0 0 0 0;\n",
       "        width: 32px;\n",
       "      }\n",
       "\n",
       "      .colab-df-generate:hover {\n",
       "        background-color: #E2EBFA;\n",
       "        box-shadow: 0px 1px 2px rgba(60, 64, 67, 0.3), 0px 1px 3px 1px rgba(60, 64, 67, 0.15);\n",
       "        fill: #174EA6;\n",
       "      }\n",
       "\n",
       "      [theme=dark] .colab-df-generate {\n",
       "        background-color: #3B4455;\n",
       "        fill: #D2E3FC;\n",
       "      }\n",
       "\n",
       "      [theme=dark] .colab-df-generate:hover {\n",
       "        background-color: #434B5C;\n",
       "        box-shadow: 0px 1px 3px 1px rgba(0, 0, 0, 0.15);\n",
       "        filter: drop-shadow(0px 1px 2px rgba(0, 0, 0, 0.3));\n",
       "        fill: #FFFFFF;\n",
       "      }\n",
       "    </style>\n",
       "    <button class=\"colab-df-generate\" onclick=\"generateWithVariable('df1')\"\n",
       "            title=\"Generate code using this dataframe.\"\n",
       "            style=\"display:none;\">\n",
       "\n",
       "  <svg xmlns=\"http://www.w3.org/2000/svg\" height=\"24px\"viewBox=\"0 0 24 24\"\n",
       "       width=\"24px\">\n",
       "    <path d=\"M7,19H8.4L18.45,9,17,7.55,7,17.6ZM5,21V16.75L18.45,3.32a2,2,0,0,1,2.83,0l1.4,1.43a1.91,1.91,0,0,1,.58,1.4,1.91,1.91,0,0,1-.58,1.4L9.25,21ZM18.45,9,17,7.55Zm-12,3A5.31,5.31,0,0,0,4.9,8.1,5.31,5.31,0,0,0,1,6.5,5.31,5.31,0,0,0,4.9,4.9,5.31,5.31,0,0,0,6.5,1,5.31,5.31,0,0,0,8.1,4.9,5.31,5.31,0,0,0,12,6.5,5.46,5.46,0,0,0,6.5,12Z\"/>\n",
       "  </svg>\n",
       "    </button>\n",
       "    <script>\n",
       "      (() => {\n",
       "      const buttonEl =\n",
       "        document.querySelector('#id_2eb96e72-b06f-4e5c-a690-abe5f3b50a01 button.colab-df-generate');\n",
       "      buttonEl.style.display =\n",
       "        google.colab.kernel.accessAllowed ? 'block' : 'none';\n",
       "\n",
       "      buttonEl.onclick = () => {\n",
       "        google.colab.notebook.generateWithVariable('df1');\n",
       "      }\n",
       "      })();\n",
       "    </script>\n",
       "  </div>\n",
       "\n",
       "    </div>\n",
       "  </div>\n"
      ],
      "text/plain": [
       "       time   electricity         power\n",
       "0  0.013619  5.465486e-09  4.013149e-07\n",
       "1  0.013144  5.474000e-09  4.164784e-07"
      ]
     },
     "execution_count": 47,
     "metadata": {},
     "output_type": "execute_result"
    }
   ],
   "source": [
    "df1"
   ]
  },
  {
   "cell_type": "code",
   "execution_count": 10,
   "metadata": {
    "id": "fw_awUeA1vgT"
   },
   "outputs": [],
   "source": [
    "%%capture\n",
    "n=200\n",
    "df_bl=simus(do_bloom_filter('datasets/URL_data.csv', 200000),n)\n",
    "df_ada=simus(do_disjoint_Ada_BF('datasets/URL_data.csv',\n",
    "                                8, 12, 1.8, 2.1, 200000),n)\n",
    "df_lbf=simus(do_learned_bf('datasets/URL_data.csv', 0.5,0.9,200000),n)"
   ]
  },
  {
   "cell_type": "code",
   "execution_count": 11,
   "metadata": {
    "id": "ouMa9osR3WX5"
   },
   "outputs": [],
   "source": [
    "df_bl['method']='bloom_filter'\n",
    "df_ada['method']='disjoint_Ada_BF'\n",
    "df_lbf['method']='learned_bf'"
   ]
  },
  {
   "cell_type": "code",
   "execution_count": 12,
   "metadata": {
    "colab": {
     "base_uri": "https://localhost:8080/",
     "height": 206
    },
    "id": "D4ahF9O-3lCs",
    "outputId": "b2336329-bf70-4781-8f16-066c200c2272"
   },
   "outputs": [
    {
     "data": {
      "text/html": [
       "\n",
       "  <div id=\"df-d62a7d9c-c85a-4b01-9b9b-6ecf0cfca167\" class=\"colab-df-container\">\n",
       "    <div>\n",
       "<style scoped>\n",
       "    .dataframe tbody tr th:only-of-type {\n",
       "        vertical-align: middle;\n",
       "    }\n",
       "\n",
       "    .dataframe tbody tr th {\n",
       "        vertical-align: top;\n",
       "    }\n",
       "\n",
       "    .dataframe thead th {\n",
       "        text-align: right;\n",
       "    }\n",
       "</style>\n",
       "<table border=\"1\" class=\"dataframe\">\n",
       "  <thead>\n",
       "    <tr style=\"text-align: right;\">\n",
       "      <th></th>\n",
       "      <th>time</th>\n",
       "      <th>electricity</th>\n",
       "      <th>power</th>\n",
       "      <th>method</th>\n",
       "    </tr>\n",
       "  </thead>\n",
       "  <tbody>\n",
       "    <tr>\n",
       "      <th>0</th>\n",
       "      <td>0.013768</td>\n",
       "      <td>3.809221e-08</td>\n",
       "      <td>0.000003</td>\n",
       "      <td>bloom_filter</td>\n",
       "    </tr>\n",
       "    <tr>\n",
       "      <th>1</th>\n",
       "      <td>0.015283</td>\n",
       "      <td>1.697138e-07</td>\n",
       "      <td>0.000011</td>\n",
       "      <td>bloom_filter</td>\n",
       "    </tr>\n",
       "    <tr>\n",
       "      <th>2</th>\n",
       "      <td>0.014129</td>\n",
       "      <td>4.002099e-08</td>\n",
       "      <td>0.000003</td>\n",
       "      <td>bloom_filter</td>\n",
       "    </tr>\n",
       "    <tr>\n",
       "      <th>3</th>\n",
       "      <td>0.029902</td>\n",
       "      <td>4.117396e-08</td>\n",
       "      <td>0.000001</td>\n",
       "      <td>bloom_filter</td>\n",
       "    </tr>\n",
       "    <tr>\n",
       "      <th>4</th>\n",
       "      <td>0.059650</td>\n",
       "      <td>2.343006e-07</td>\n",
       "      <td>0.000004</td>\n",
       "      <td>bloom_filter</td>\n",
       "    </tr>\n",
       "  </tbody>\n",
       "</table>\n",
       "</div>\n",
       "    <div class=\"colab-df-buttons\">\n",
       "\n",
       "  <div class=\"colab-df-container\">\n",
       "    <button class=\"colab-df-convert\" onclick=\"convertToInteractive('df-d62a7d9c-c85a-4b01-9b9b-6ecf0cfca167')\"\n",
       "            title=\"Convert this dataframe to an interactive table.\"\n",
       "            style=\"display:none;\">\n",
       "\n",
       "  <svg xmlns=\"http://www.w3.org/2000/svg\" height=\"24px\" viewBox=\"0 -960 960 960\">\n",
       "    <path d=\"M120-120v-720h720v720H120Zm60-500h600v-160H180v160Zm220 220h160v-160H400v160Zm0 220h160v-160H400v160ZM180-400h160v-160H180v160Zm440 0h160v-160H620v160ZM180-180h160v-160H180v160Zm440 0h160v-160H620v160Z\"/>\n",
       "  </svg>\n",
       "    </button>\n",
       "\n",
       "  <style>\n",
       "    .colab-df-container {\n",
       "      display:flex;\n",
       "      gap: 12px;\n",
       "    }\n",
       "\n",
       "    .colab-df-convert {\n",
       "      background-color: #E8F0FE;\n",
       "      border: none;\n",
       "      border-radius: 50%;\n",
       "      cursor: pointer;\n",
       "      display: none;\n",
       "      fill: #1967D2;\n",
       "      height: 32px;\n",
       "      padding: 0 0 0 0;\n",
       "      width: 32px;\n",
       "    }\n",
       "\n",
       "    .colab-df-convert:hover {\n",
       "      background-color: #E2EBFA;\n",
       "      box-shadow: 0px 1px 2px rgba(60, 64, 67, 0.3), 0px 1px 3px 1px rgba(60, 64, 67, 0.15);\n",
       "      fill: #174EA6;\n",
       "    }\n",
       "\n",
       "    .colab-df-buttons div {\n",
       "      margin-bottom: 4px;\n",
       "    }\n",
       "\n",
       "    [theme=dark] .colab-df-convert {\n",
       "      background-color: #3B4455;\n",
       "      fill: #D2E3FC;\n",
       "    }\n",
       "\n",
       "    [theme=dark] .colab-df-convert:hover {\n",
       "      background-color: #434B5C;\n",
       "      box-shadow: 0px 1px 3px 1px rgba(0, 0, 0, 0.15);\n",
       "      filter: drop-shadow(0px 1px 2px rgba(0, 0, 0, 0.3));\n",
       "      fill: #FFFFFF;\n",
       "    }\n",
       "  </style>\n",
       "\n",
       "    <script>\n",
       "      const buttonEl =\n",
       "        document.querySelector('#df-d62a7d9c-c85a-4b01-9b9b-6ecf0cfca167 button.colab-df-convert');\n",
       "      buttonEl.style.display =\n",
       "        google.colab.kernel.accessAllowed ? 'block' : 'none';\n",
       "\n",
       "      async function convertToInteractive(key) {\n",
       "        const element = document.querySelector('#df-d62a7d9c-c85a-4b01-9b9b-6ecf0cfca167');\n",
       "        const dataTable =\n",
       "          await google.colab.kernel.invokeFunction('convertToInteractive',\n",
       "                                                    [key], {});\n",
       "        if (!dataTable) return;\n",
       "\n",
       "        const docLinkHtml = 'Like what you see? Visit the ' +\n",
       "          '<a target=\"_blank\" href=https://colab.research.google.com/notebooks/data_table.ipynb>data table notebook</a>'\n",
       "          + ' to learn more about interactive tables.';\n",
       "        element.innerHTML = '';\n",
       "        dataTable['output_type'] = 'display_data';\n",
       "        await google.colab.output.renderOutput(dataTable, element);\n",
       "        const docLink = document.createElement('div');\n",
       "        docLink.innerHTML = docLinkHtml;\n",
       "        element.appendChild(docLink);\n",
       "      }\n",
       "    </script>\n",
       "  </div>\n",
       "\n",
       "\n",
       "<div id=\"df-2c8f59f7-0eb7-40ff-a1fb-85dc7a970587\">\n",
       "  <button class=\"colab-df-quickchart\" onclick=\"quickchart('df-2c8f59f7-0eb7-40ff-a1fb-85dc7a970587')\"\n",
       "            title=\"Suggest charts\"\n",
       "            style=\"display:none;\">\n",
       "\n",
       "<svg xmlns=\"http://www.w3.org/2000/svg\" height=\"24px\"viewBox=\"0 0 24 24\"\n",
       "     width=\"24px\">\n",
       "    <g>\n",
       "        <path d=\"M19 3H5c-1.1 0-2 .9-2 2v14c0 1.1.9 2 2 2h14c1.1 0 2-.9 2-2V5c0-1.1-.9-2-2-2zM9 17H7v-7h2v7zm4 0h-2V7h2v10zm4 0h-2v-4h2v4z\"/>\n",
       "    </g>\n",
       "</svg>\n",
       "  </button>\n",
       "\n",
       "<style>\n",
       "  .colab-df-quickchart {\n",
       "      --bg-color: #E8F0FE;\n",
       "      --fill-color: #1967D2;\n",
       "      --hover-bg-color: #E2EBFA;\n",
       "      --hover-fill-color: #174EA6;\n",
       "      --disabled-fill-color: #AAA;\n",
       "      --disabled-bg-color: #DDD;\n",
       "  }\n",
       "\n",
       "  [theme=dark] .colab-df-quickchart {\n",
       "      --bg-color: #3B4455;\n",
       "      --fill-color: #D2E3FC;\n",
       "      --hover-bg-color: #434B5C;\n",
       "      --hover-fill-color: #FFFFFF;\n",
       "      --disabled-bg-color: #3B4455;\n",
       "      --disabled-fill-color: #666;\n",
       "  }\n",
       "\n",
       "  .colab-df-quickchart {\n",
       "    background-color: var(--bg-color);\n",
       "    border: none;\n",
       "    border-radius: 50%;\n",
       "    cursor: pointer;\n",
       "    display: none;\n",
       "    fill: var(--fill-color);\n",
       "    height: 32px;\n",
       "    padding: 0;\n",
       "    width: 32px;\n",
       "  }\n",
       "\n",
       "  .colab-df-quickchart:hover {\n",
       "    background-color: var(--hover-bg-color);\n",
       "    box-shadow: 0 1px 2px rgba(60, 64, 67, 0.3), 0 1px 3px 1px rgba(60, 64, 67, 0.15);\n",
       "    fill: var(--button-hover-fill-color);\n",
       "  }\n",
       "\n",
       "  .colab-df-quickchart-complete:disabled,\n",
       "  .colab-df-quickchart-complete:disabled:hover {\n",
       "    background-color: var(--disabled-bg-color);\n",
       "    fill: var(--disabled-fill-color);\n",
       "    box-shadow: none;\n",
       "  }\n",
       "\n",
       "  .colab-df-spinner {\n",
       "    border: 2px solid var(--fill-color);\n",
       "    border-color: transparent;\n",
       "    border-bottom-color: var(--fill-color);\n",
       "    animation:\n",
       "      spin 1s steps(1) infinite;\n",
       "  }\n",
       "\n",
       "  @keyframes spin {\n",
       "    0% {\n",
       "      border-color: transparent;\n",
       "      border-bottom-color: var(--fill-color);\n",
       "      border-left-color: var(--fill-color);\n",
       "    }\n",
       "    20% {\n",
       "      border-color: transparent;\n",
       "      border-left-color: var(--fill-color);\n",
       "      border-top-color: var(--fill-color);\n",
       "    }\n",
       "    30% {\n",
       "      border-color: transparent;\n",
       "      border-left-color: var(--fill-color);\n",
       "      border-top-color: var(--fill-color);\n",
       "      border-right-color: var(--fill-color);\n",
       "    }\n",
       "    40% {\n",
       "      border-color: transparent;\n",
       "      border-right-color: var(--fill-color);\n",
       "      border-top-color: var(--fill-color);\n",
       "    }\n",
       "    60% {\n",
       "      border-color: transparent;\n",
       "      border-right-color: var(--fill-color);\n",
       "    }\n",
       "    80% {\n",
       "      border-color: transparent;\n",
       "      border-right-color: var(--fill-color);\n",
       "      border-bottom-color: var(--fill-color);\n",
       "    }\n",
       "    90% {\n",
       "      border-color: transparent;\n",
       "      border-bottom-color: var(--fill-color);\n",
       "    }\n",
       "  }\n",
       "</style>\n",
       "\n",
       "  <script>\n",
       "    async function quickchart(key) {\n",
       "      const quickchartButtonEl =\n",
       "        document.querySelector('#' + key + ' button');\n",
       "      quickchartButtonEl.disabled = true;  // To prevent multiple clicks.\n",
       "      quickchartButtonEl.classList.add('colab-df-spinner');\n",
       "      try {\n",
       "        const charts = await google.colab.kernel.invokeFunction(\n",
       "            'suggestCharts', [key], {});\n",
       "      } catch (error) {\n",
       "        console.error('Error during call to suggestCharts:', error);\n",
       "      }\n",
       "      quickchartButtonEl.classList.remove('colab-df-spinner');\n",
       "      quickchartButtonEl.classList.add('colab-df-quickchart-complete');\n",
       "    }\n",
       "    (() => {\n",
       "      let quickchartButtonEl =\n",
       "        document.querySelector('#df-2c8f59f7-0eb7-40ff-a1fb-85dc7a970587 button');\n",
       "      quickchartButtonEl.style.display =\n",
       "        google.colab.kernel.accessAllowed ? 'block' : 'none';\n",
       "    })();\n",
       "  </script>\n",
       "</div>\n",
       "\n",
       "    </div>\n",
       "  </div>\n"
      ],
      "text/plain": [
       "       time   electricity     power        method\n",
       "0  0.013768  3.809221e-08  0.000003  bloom_filter\n",
       "1  0.015283  1.697138e-07  0.000011  bloom_filter\n",
       "2  0.014129  4.002099e-08  0.000003  bloom_filter\n",
       "3  0.029902  4.117396e-08  0.000001  bloom_filter\n",
       "4  0.059650  2.343006e-07  0.000004  bloom_filter"
      ]
     },
     "execution_count": 12,
     "metadata": {},
     "output_type": "execute_result"
    }
   ],
   "source": [
    "df_all=pd.concat([df_bl, df_ada,df_lbf], ignore_index=True)\n",
    "df_all.head()"
   ]
  },
  {
   "cell_type": "code",
   "execution_count": 13,
   "metadata": {
    "id": "naIls8ni3oXy"
   },
   "outputs": [],
   "source": [
    "df_all.to_csv('emissions_data_method_gpu.csv', index=False)"
   ]
  },
  {
   "cell_type": "code",
   "execution_count": 14,
   "metadata": {
    "colab": {
     "base_uri": "https://localhost:8080/",
     "height": 1000
    },
    "id": "6dqjN5xn3qs5",
    "outputId": "4ac9d92c-b789-4df7-8ab6-daae8da1ff20"
   },
   "outputs": [
    {
     "data": {
      "image/png": "[encoded data removed]",
      "text/plain": [
       "<Figure size 1000x600 with 1 Axes>"
      ]
     },
     "metadata": {},
     "output_type": "display_data"
    },
    {
     "data": {
      "image/png": "[encoded data removed]",
      "text/plain": [
       "<Figure size 1000x600 with 1 Axes>"
      ]
     },
     "metadata": {},
     "output_type": "display_data"
    },
    {
     "data": {
      "image/png": "[encoded data removed]",
      "text/plain": [
       "<Figure size 1000x600 with 1 Axes>"
      ]
     },
     "metadata": {},
     "output_type": "display_data"
    }
   ],
   "source": [
    "import seaborn as sns\n",
    "import matplotlib.pyplot as plt\n",
    "# Scatter plot\n",
    "plt.figure(figsize=(10, 6))\n",
    "sns.scatterplot(data=df_all, x='time', y='electricity', hue='method')\n",
    "plt.title('Scatter plot of Time vs Electricity')\n",
    "plt.xlabel('Time')\n",
    "plt.ylabel('Electricity')\n",
    "plt.legend(title='method')\n",
    "plt.show()\n",
    "\n",
    "# Histograms of power\n",
    "plt.figure(figsize=(10, 6))\n",
    "sns.histplot(data=df_all, x='power', hue='method', element=\"step\", kde=True)\n",
    "plt.title('Histogram of Power by method')\n",
    "plt.xlabel('Power')\n",
    "plt.ylabel('Frequency')\n",
    "plt.show()\n",
    "\n",
    "# Boxplots\n",
    "plt.figure(figsize=(10, 6))\n",
    "sns.boxplot(data=df_all, x='method', y='power')\n",
    "plt.title('Boxplot of Power by method')\n",
    "plt.xlabel('method')\n",
    "plt.ylabel('Power')\n",
    "plt.show()"
   ]
  }
 ],
 "metadata": {
  "accelerator": "GPU",
  "colab": {
   "gpuType": "T4",
   "provenance": []
  },
  "kernelspec": {
   "display_name": "Python 3 (ipykernel)",
   "language": "python",
   "name": "python3"
  },
  "language_info": {
   "codemirror_mode": {
    "name": "ipython",
    "version": 3
   },
   "file_extension": ".py",
   "mimetype": "text/x-python",
   "name": "python",
   "nbconvert_exporter": "python",
   "pygments_lexer": "ipython3",
   "version": "3.9.16"
  }
 },
 "nbformat": 4,
 "nbformat_minor": 4
}
