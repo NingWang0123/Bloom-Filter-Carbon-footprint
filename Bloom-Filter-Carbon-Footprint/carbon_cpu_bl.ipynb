{
 "cells": [
  {
   "cell_type": "code",
   "execution_count": 10,
   "id": "5b2631e9-f4ee-4fa8-908f-98b6e71d524e",
   "metadata": {},
   "outputs": [
    {
     "name": "stderr",
     "output_type": "stream",
     "text": [
      "[codecarbon INFO @ 14:49:32] [setup] RAM Tracking...\n",
      "[codecarbon INFO @ 14:49:32] [setup] GPU Tracking...\n",
      "[codecarbon INFO @ 14:49:33] Tracking Nvidia GPU via pynvml\n",
      "[codecarbon INFO @ 14:49:33] [setup] CPU Tracking...\n",
      "[codecarbon WARNING @ 14:49:33] No CPU tracking mode found. Falling back on CPU constant mode.\n",
      "[codecarbon WARNING @ 14:49:34] We saw that you have a 13th Gen Intel(R) Core(TM) i9-13900KF but we don't know it. Please contact us.\n",
      "[codecarbon INFO @ 14:49:34] CPU Model on constant consumption mode: 13th Gen Intel(R) Core(TM) i9-13900KF\n",
      "[codecarbon INFO @ 14:49:34] >>> Tracker's metadata:\n",
      "[codecarbon INFO @ 14:49:34]   Platform system: Windows-10-10.0.22621-SP0\n",
      "[codecarbon INFO @ 14:49:34]   Python version: 3.11.5\n",
      "[codecarbon INFO @ 14:49:34]   CodeCarbon version: 2.3.1\n",
      "[codecarbon INFO @ 14:49:34]   Available RAM : 63.699 GB\n",
      "[codecarbon INFO @ 14:49:34]   CPU count: 32\n",
      "[codecarbon INFO @ 14:49:34]   CPU model: 13th Gen Intel(R) Core(TM) i9-13900KF\n",
      "[codecarbon INFO @ 14:49:34]   GPU count: 1\n",
      "[codecarbon INFO @ 14:49:34]   GPU model: 1 x NVIDIA GeForce RTX 4090\n"
     ]
    }
   ],
   "source": [
    "import pandas as pd\n",
    "import math\n",
    "import numpy as np\n",
    "import time\n",
    "from codecarbon import EmissionsTracker\n",
    "from Bloom_filter import BloomFilter\n",
    "import PLBF\n",
    "import disjoint_Ada_BF\n",
    "import learned_Bloom_filter\n",
    "import Ada_BF\n",
    "tracker = EmissionsTracker()"
   ]
  },
  {
   "cell_type": "code",
   "execution_count": 11,
   "id": "f4bb334b-12ac-4975-94e8-7a911fbe8e63",
   "metadata": {},
   "outputs": [],
   "source": [
    "data_path='datasets/URL_data.csv'\n",
    "data = pd.read_csv(data_path)\n",
    "negative_sample = data.loc[(data['label'] == -1)]\n",
    "positive_sample = data.loc[(data['label'] == 1)]\n",
    "url_negative = negative_sample['url']\n",
    "url = positive_sample['url']\n",
    "n = len(url)\n",
    "train_negative = negative_sample.sample(frac = 0.3)"
   ]
  },
  {
   "cell_type": "code",
   "execution_count": 14,
   "id": "1d036375-df7f-4941-adb6-0bd35af42482",
   "metadata": {},
   "outputs": [],
   "source": [
    "def get_train_time(num_group_min, num_group_max, c_min, c_max, R_sum,url,n,min_thres,max_thres,train_negative,positive_sample,model):\n",
    "    if model=='bl':\n",
    "        bloom_filter = BloomFilter(n, R_sum)\n",
    "        bloom_filter.insert(url)\n",
    "        return bloom_filter\n",
    "    elif model=='disjoint_Ada_BF':\n",
    "        Bloom_Filters_opt, thresholds_opt, non_empty_ix_opt = disjoint_Ada_BF.Find_Optimal_Parameters(c_min,c_max, num_group_min, \n",
    "                                                                   num_group_max, R_sum,\n",
    "                                                                   train_negative, positive_sample)\n",
    "        return Bloom_Filters_opt,thresholds_opt,non_empty_ix_opt\n",
    "    elif model=='learned_BF':\n",
    "        bloom_filter_opt, thres_opt = learned_Bloom_filter.Find_Optimal_Parameters(max_thres, min_thres, R_sum,\n",
    "                                                                                     train_negative, positive_sample)\n",
    "        return bloom_filter_opt,thres_opt\n",
    "            \n",
    "    \n",
    "    elif model=='Ada_BF':\n",
    "        bloom_filter_opt, thresholds_opt, k_max_opt = Ada_BF.Find_Optimal_Parameters(c_min, c_max, num_group_min,\n",
    "                                                                                      num_group_max, \n",
    "                                                                                      R_sum, train_negative,\n",
    "                                                                                      positive_sample)\n",
    "        return bloom_filter_opt, thresholds_opt, k_max_opt\n",
    "    else:\n",
    "        return('invalid model, model must be one of bl,disjoint_Ada_BF,learned_BF,Ada_BF')\n",
    "\n",
    "        "
   ]
  },
  {
   "cell_type": "code",
   "execution_count": 15,
   "id": "d126c771-0718-4914-96a9-e993abb64739",
   "metadata": {},
   "outputs": [],
   "source": [
    "from concurrent.futures import ProcessPoolExecutor\n",
    "\n",
    "def simus(func,num_runs=100):\n",
    "    times = np.zeros(num_runs)\n",
    "    electricity = np.zeros(num_runs)\n",
    "\n",
    "    for i in range(num_runs):\n",
    "        tracker = EmissionsTracker()\n",
    "        start_time = time.time()\n",
    "        tracker.start()\n",
    "        result = func\n",
    "        energy_consumed = tracker.stop()\n",
    "        end_time = time.time()\n",
    "        times[i]=end_time - start_time\n",
    "        electricity[i]=energy_consumed\n",
    "    return pd.DataFrame({'total_time' : times, 'electricity' : electricity})\n",
    "\n",
    "\n",
    "def parallel_simus(func, num_runs=100,num_cpus=None):\n",
    "    with ProcessPoolExecutor(max_workers=num_cpus) as executor:\n",
    "        results = list(executor.map(simulation_function, [func]*num_runs))\n",
    "\n",
    "    times, electricity = zip(*results)\n",
    "    times = np.array(times)\n",
    "    electricity = np.array(electricity)\n",
    "\n",
    "    return pd.DataFrame({'total_time': times, 'electricity': electricity})"
   ]
  },
  {
   "cell_type": "code",
   "execution_count": 16,
   "id": "72124733-3627-4e69-b9ec-9f729e2b1b4b",
   "metadata": {},
   "outputs": [
    {
     "ename": "KeyboardInterrupt",
     "evalue": "",
     "output_type": "error",
     "traceback": [
      "\u001b[1;31m---------------------------------------------------------------------------\u001b[0m",
      "\u001b[1;31mKeyboardInterrupt\u001b[0m                         Traceback (most recent call last)",
      "\u001b[1;32md:\\Desktop\\repos\\Bloom-Filter-Carbon-Footprint\\carbon_cpu_bl.ipynb Cell 5\u001b[0m line \u001b[0;36m3\n\u001b[0;32m      <a href='vscode-notebook-cell:/d%3A/Desktop/repos/Bloom-Filter-Carbon-Footprint/carbon_cpu_bl.ipynb#W4sZmlsZQ%3D%3D?line=0'>1</a>\u001b[0m \u001b[39m##collecting 800 \u001b[39;00m\n\u001b[0;32m      <a href='vscode-notebook-cell:/d%3A/Desktop/repos/Bloom-Filter-Carbon-Footprint/carbon_cpu_bl.ipynb#W4sZmlsZQ%3D%3D?line=1'>2</a>\u001b[0m n_iters\u001b[39m=\u001b[39m\u001b[39m200\u001b[39m\n\u001b[1;32m----> <a href='vscode-notebook-cell:/d%3A/Desktop/repos/Bloom-Filter-Carbon-Footprint/carbon_cpu_bl.ipynb#W4sZmlsZQ%3D%3D?line=2'>3</a>\u001b[0m df_bl\u001b[39m=\u001b[39msimus(get_train_time(\u001b[39m8\u001b[39m, \u001b[39m12\u001b[39m, \u001b[39m1.8\u001b[39m, \u001b[39m2.1\u001b[39m, \u001b[39m200000\u001b[39m,url,n,\u001b[39m0.5\u001b[39m,\u001b[39m0.9\u001b[39m,\n\u001b[0;32m      <a href='vscode-notebook-cell:/d%3A/Desktop/repos/Bloom-Filter-Carbon-Footprint/carbon_cpu_bl.ipynb#W4sZmlsZQ%3D%3D?line=3'>4</a>\u001b[0m                            train_negative,positive_sample,model\u001b[39m=\u001b[39m\u001b[39m'\u001b[39m\u001b[39mbl\u001b[39m\u001b[39m'\u001b[39m),n_iters)\n\u001b[0;32m      <a href='vscode-notebook-cell:/d%3A/Desktop/repos/Bloom-Filter-Carbon-Footprint/carbon_cpu_bl.ipynb#W4sZmlsZQ%3D%3D?line=5'>6</a>\u001b[0m df_dis_ada\u001b[39m=\u001b[39msimus(get_train_time(\u001b[39m8\u001b[39m, \u001b[39m12\u001b[39m, \u001b[39m1.8\u001b[39m, \u001b[39m2.1\u001b[39m, \u001b[39m200000\u001b[39m,url,n,\u001b[39m0.5\u001b[39m,\u001b[39m0.9\u001b[39m,\n\u001b[0;32m      <a href='vscode-notebook-cell:/d%3A/Desktop/repos/Bloom-Filter-Carbon-Footprint/carbon_cpu_bl.ipynb#W4sZmlsZQ%3D%3D?line=6'>7</a>\u001b[0m                            train_negative,positive_sample,model\u001b[39m=\u001b[39m\u001b[39m'\u001b[39m\u001b[39mdisjoint_Ada_BF\u001b[39m\u001b[39m'\u001b[39m),n_iters)\n\u001b[0;32m      <a href='vscode-notebook-cell:/d%3A/Desktop/repos/Bloom-Filter-Carbon-Footprint/carbon_cpu_bl.ipynb#W4sZmlsZQ%3D%3D?line=8'>9</a>\u001b[0m df_lbf\u001b[39m=\u001b[39msimus(get_train_time(\u001b[39m8\u001b[39m, \u001b[39m12\u001b[39m, \u001b[39m1.8\u001b[39m, \u001b[39m2.1\u001b[39m, \u001b[39m200000\u001b[39m,url,n,\u001b[39m0.5\u001b[39m,\u001b[39m0.9\u001b[39m,\n\u001b[0;32m     <a href='vscode-notebook-cell:/d%3A/Desktop/repos/Bloom-Filter-Carbon-Footprint/carbon_cpu_bl.ipynb#W4sZmlsZQ%3D%3D?line=9'>10</a>\u001b[0m                            train_negative,positive_sample,model\u001b[39m=\u001b[39m\u001b[39m'\u001b[39m\u001b[39mlearned_BF\u001b[39m\u001b[39m'\u001b[39m),n_iters)\n",
      "\u001b[1;32md:\\Desktop\\repos\\Bloom-Filter-Carbon-Footprint\\carbon_cpu_bl.ipynb Cell 5\u001b[0m line \u001b[0;36m8\n\u001b[0;32m      <a href='vscode-notebook-cell:/d%3A/Desktop/repos/Bloom-Filter-Carbon-Footprint/carbon_cpu_bl.ipynb#W4sZmlsZQ%3D%3D?line=4'>5</a>\u001b[0m electricity \u001b[39m=\u001b[39m np\u001b[39m.\u001b[39mzeros(num_runs)\n\u001b[0;32m      <a href='vscode-notebook-cell:/d%3A/Desktop/repos/Bloom-Filter-Carbon-Footprint/carbon_cpu_bl.ipynb#W4sZmlsZQ%3D%3D?line=6'>7</a>\u001b[0m \u001b[39mfor\u001b[39;00m i \u001b[39min\u001b[39;00m \u001b[39mrange\u001b[39m(num_runs):\n\u001b[1;32m----> <a href='vscode-notebook-cell:/d%3A/Desktop/repos/Bloom-Filter-Carbon-Footprint/carbon_cpu_bl.ipynb#W4sZmlsZQ%3D%3D?line=7'>8</a>\u001b[0m     tracker \u001b[39m=\u001b[39m EmissionsTracker()\n\u001b[0;32m      <a href='vscode-notebook-cell:/d%3A/Desktop/repos/Bloom-Filter-Carbon-Footprint/carbon_cpu_bl.ipynb#W4sZmlsZQ%3D%3D?line=8'>9</a>\u001b[0m     start_time \u001b[39m=\u001b[39m time\u001b[39m.\u001b[39mtime()\n\u001b[0;32m     <a href='vscode-notebook-cell:/d%3A/Desktop/repos/Bloom-Filter-Carbon-Footprint/carbon_cpu_bl.ipynb#W4sZmlsZQ%3D%3D?line=9'>10</a>\u001b[0m     tracker\u001b[39m.\u001b[39mstart()\n",
      "File \u001b[1;32md:\\anaconda\\Lib\\site-packages\\codecarbon\\emissions_tracker.py:310\u001b[0m, in \u001b[0;36mBaseEmissionsTracker.__init__\u001b[1;34m(self, project_name, measure_power_secs, api_call_interval, api_endpoint, api_key, output_dir, output_file, save_to_file, save_to_api, save_to_logger, logging_logger, save_to_prometheus, prometheus_url, gpu_ids, emissions_endpoint, experiment_id, experiment_name, co2_signal_api_token, tracking_mode, log_level, on_csv_write, logger_preamble, default_cpu_power, pue)\u001b[0m\n\u001b[0;32m    306\u001b[0m \u001b[39melse\u001b[39;00m:\n\u001b[0;32m    307\u001b[0m     logger\u001b[39m.\u001b[39mwarning(\n\u001b[0;32m    308\u001b[0m         \u001b[39m\"\u001b[39m\u001b[39mNo CPU tracking mode found. Falling back on CPU constant mode.\u001b[39m\u001b[39m\"\u001b[39m\n\u001b[0;32m    309\u001b[0m     )\n\u001b[1;32m--> 310\u001b[0m     tdp \u001b[39m=\u001b[39m cpu\u001b[39m.\u001b[39mTDP()\n\u001b[0;32m    311\u001b[0m     power \u001b[39m=\u001b[39m tdp\u001b[39m.\u001b[39mtdp\n\u001b[0;32m    312\u001b[0m     model \u001b[39m=\u001b[39m tdp\u001b[39m.\u001b[39mmodel\n",
      "File \u001b[1;32md:\\anaconda\\Lib\\site-packages\\codecarbon\\core\\cpu.py:266\u001b[0m, in \u001b[0;36mTDP.__init__\u001b[1;34m(self)\u001b[0m\n\u001b[0;32m    265\u001b[0m \u001b[39mdef\u001b[39;00m \u001b[39m__init__\u001b[39m(\u001b[39mself\u001b[39m):\n\u001b[1;32m--> 266\u001b[0m     \u001b[39mself\u001b[39m\u001b[39m.\u001b[39mmodel, \u001b[39mself\u001b[39m\u001b[39m.\u001b[39mtdp \u001b[39m=\u001b[39m \u001b[39mself\u001b[39m\u001b[39m.\u001b[39m_main()\n",
      "File \u001b[1;32md:\\anaconda\\Lib\\site-packages\\codecarbon\\core\\cpu.py:371\u001b[0m, in \u001b[0;36mTDP._main\u001b[1;34m(self)\u001b[0m\n\u001b[0;32m    368\u001b[0m cpu_model_detected \u001b[39m=\u001b[39m detect_cpu_model()\n\u001b[0;32m    370\u001b[0m \u001b[39mif\u001b[39;00m cpu_model_detected:\n\u001b[1;32m--> 371\u001b[0m     power \u001b[39m=\u001b[39m \u001b[39mself\u001b[39m\u001b[39m.\u001b[39m_get_cpu_power_from_registry(cpu_model_detected)\n\u001b[0;32m    373\u001b[0m     \u001b[39mif\u001b[39;00m power:\n\u001b[0;32m    374\u001b[0m         logger\u001b[39m.\u001b[39mdebug(\n\u001b[0;32m    375\u001b[0m             \u001b[39mf\u001b[39m\u001b[39m\"\u001b[39m\u001b[39mCPU : We detect a \u001b[39m\u001b[39m{\u001b[39;00mcpu_model_detected\u001b[39m}\u001b[39;00m\u001b[39m with a TDP of \u001b[39m\u001b[39m{\u001b[39;00mpower\u001b[39m}\u001b[39;00m\u001b[39m W\u001b[39m\u001b[39m\"\u001b[39m\n\u001b[0;32m    376\u001b[0m         )\n",
      "File \u001b[1;32md:\\anaconda\\Lib\\site-packages\\codecarbon\\core\\cpu.py:275\u001b[0m, in \u001b[0;36mTDP._get_cpu_power_from_registry\u001b[1;34m(self, cpu_model_raw)\u001b[0m\n\u001b[0;32m    273\u001b[0m \u001b[39mdef\u001b[39;00m \u001b[39m_get_cpu_power_from_registry\u001b[39m(\u001b[39mself\u001b[39m, cpu_model_raw: \u001b[39mstr\u001b[39m) \u001b[39m-\u001b[39m\u001b[39m>\u001b[39m \u001b[39mint\u001b[39m:\n\u001b[0;32m    274\u001b[0m     cpu_power_df \u001b[39m=\u001b[39m DataSource()\u001b[39m.\u001b[39mget_cpu_power_data()\n\u001b[1;32m--> 275\u001b[0m     cpu_matching \u001b[39m=\u001b[39m \u001b[39mself\u001b[39m\u001b[39m.\u001b[39m_get_matching_cpu(cpu_model_raw, cpu_power_df)\n\u001b[0;32m    276\u001b[0m     \u001b[39mif\u001b[39;00m cpu_matching:\n\u001b[0;32m    277\u001b[0m         power \u001b[39m=\u001b[39m \u001b[39mself\u001b[39m\u001b[39m.\u001b[39m_get_cpu_constant_power(cpu_matching, cpu_power_df)\n",
      "File \u001b[1;32md:\\anaconda\\Lib\\site-packages\\codecarbon\\core\\cpu.py:336\u001b[0m, in \u001b[0;36mTDP._get_matching_cpu\u001b[1;34m(self, model_raw, cpu_df, greedy)\u001b[0m\n\u001b[0;32m    333\u001b[0m THRESHOLD_TOKEN_SET \u001b[39m=\u001b[39m \u001b[39m100\u001b[39m\n\u001b[0;32m    335\u001b[0m ratios_direct \u001b[39m=\u001b[39m \u001b[39mself\u001b[39m\u001b[39m.\u001b[39m_get_direct_matches(model_raw, cpu_df)\n\u001b[1;32m--> 336\u001b[0m ratios_token_set \u001b[39m=\u001b[39m \u001b[39mself\u001b[39m\u001b[39m.\u001b[39m_get_token_set_matches(model_raw, cpu_df)\n\u001b[0;32m    337\u001b[0m max_ratio_direct \u001b[39m=\u001b[39m \u001b[39mmax\u001b[39m(ratios_direct)\n\u001b[0;32m    338\u001b[0m max_ratio_token_set \u001b[39m=\u001b[39m \u001b[39mmax\u001b[39m(ratios_token_set)\n",
      "File \u001b[1;32md:\\anaconda\\Lib\\site-packages\\codecarbon\\core\\cpu.py:292\u001b[0m, in \u001b[0;36mTDP._get_token_set_matches\u001b[1;34m(model, cpu_df)\u001b[0m\n\u001b[0;32m    290\u001b[0m \u001b[39m@staticmethod\u001b[39m\n\u001b[0;32m    291\u001b[0m \u001b[39mdef\u001b[39;00m \u001b[39m_get_token_set_matches\u001b[39m(model: \u001b[39mstr\u001b[39m, cpu_df: pd\u001b[39m.\u001b[39mDataFrame) \u001b[39m-\u001b[39m\u001b[39m>\u001b[39m \u001b[39mlist\u001b[39m:\n\u001b[1;32m--> 292\u001b[0m     \u001b[39mreturn\u001b[39;00m [fuzz\u001b[39m.\u001b[39mtoken_set_ratio(model, cpu) \u001b[39mfor\u001b[39;00m cpu \u001b[39min\u001b[39;00m cpu_df[\u001b[39m\"\u001b[39m\u001b[39mName\u001b[39m\u001b[39m\"\u001b[39m]]\n",
      "File \u001b[1;32md:\\anaconda\\Lib\\site-packages\\codecarbon\\core\\cpu.py:292\u001b[0m, in \u001b[0;36m<listcomp>\u001b[1;34m(.0)\u001b[0m\n\u001b[0;32m    290\u001b[0m \u001b[39m@staticmethod\u001b[39m\n\u001b[0;32m    291\u001b[0m \u001b[39mdef\u001b[39;00m \u001b[39m_get_token_set_matches\u001b[39m(model: \u001b[39mstr\u001b[39m, cpu_df: pd\u001b[39m.\u001b[39mDataFrame) \u001b[39m-\u001b[39m\u001b[39m>\u001b[39m \u001b[39mlist\u001b[39m:\n\u001b[1;32m--> 292\u001b[0m     \u001b[39mreturn\u001b[39;00m [fuzz\u001b[39m.\u001b[39mtoken_set_ratio(model, cpu) \u001b[39mfor\u001b[39;00m cpu \u001b[39min\u001b[39;00m cpu_df[\u001b[39m\"\u001b[39m\u001b[39mName\u001b[39m\u001b[39m\"\u001b[39m]]\n",
      "File \u001b[1;32md:\\anaconda\\Lib\\site-packages\\fuzzywuzzy\\fuzz.py:169\u001b[0m, in \u001b[0;36mtoken_set_ratio\u001b[1;34m(s1, s2, force_ascii, full_process)\u001b[0m\n\u001b[0;32m    168\u001b[0m \u001b[39mdef\u001b[39;00m \u001b[39mtoken_set_ratio\u001b[39m(s1, s2, force_ascii\u001b[39m=\u001b[39m\u001b[39mTrue\u001b[39;00m, full_process\u001b[39m=\u001b[39m\u001b[39mTrue\u001b[39;00m):\n\u001b[1;32m--> 169\u001b[0m     \u001b[39mreturn\u001b[39;00m _token_set(s1, s2, partial\u001b[39m=\u001b[39m\u001b[39mFalse\u001b[39;00m, force_ascii\u001b[39m=\u001b[39mforce_ascii, full_process\u001b[39m=\u001b[39mfull_process)\n",
      "File \u001b[1;32md:\\anaconda\\Lib\\site-packages\\fuzzywuzzy\\utils.py:38\u001b[0m, in \u001b[0;36mcheck_for_none.<locals>.decorator\u001b[1;34m(*args, **kwargs)\u001b[0m\n\u001b[0;32m     36\u001b[0m \u001b[39mif\u001b[39;00m args[\u001b[39m0\u001b[39m] \u001b[39mis\u001b[39;00m \u001b[39mNone\u001b[39;00m \u001b[39mor\u001b[39;00m args[\u001b[39m1\u001b[39m] \u001b[39mis\u001b[39;00m \u001b[39mNone\u001b[39;00m:\n\u001b[0;32m     37\u001b[0m     \u001b[39mreturn\u001b[39;00m \u001b[39m0\u001b[39m\n\u001b[1;32m---> 38\u001b[0m \u001b[39mreturn\u001b[39;00m func(\u001b[39m*\u001b[39margs, \u001b[39m*\u001b[39m\u001b[39m*\u001b[39mkwargs)\n",
      "File \u001b[1;32md:\\anaconda\\Lib\\site-packages\\fuzzywuzzy\\fuzz.py:163\u001b[0m, in \u001b[0;36m_token_set\u001b[1;34m(s1, s2, partial, force_ascii, full_process)\u001b[0m\n\u001b[0;32m    157\u001b[0m \u001b[39melse\u001b[39;00m:\n\u001b[0;32m    158\u001b[0m     ratio_func \u001b[39m=\u001b[39m ratio\n\u001b[0;32m    160\u001b[0m pairwise \u001b[39m=\u001b[39m [\n\u001b[0;32m    161\u001b[0m     ratio_func(sorted_sect, combined_1to2),\n\u001b[0;32m    162\u001b[0m     ratio_func(sorted_sect, combined_2to1),\n\u001b[1;32m--> 163\u001b[0m     ratio_func(combined_1to2, combined_2to1)\n\u001b[0;32m    164\u001b[0m ]\n\u001b[0;32m    165\u001b[0m \u001b[39mreturn\u001b[39;00m \u001b[39mmax\u001b[39m(pairwise)\n",
      "File \u001b[1;32md:\\anaconda\\Lib\\site-packages\\fuzzywuzzy\\utils.py:38\u001b[0m, in \u001b[0;36mcheck_for_none.<locals>.decorator\u001b[1;34m(*args, **kwargs)\u001b[0m\n\u001b[0;32m     36\u001b[0m \u001b[39mif\u001b[39;00m args[\u001b[39m0\u001b[39m] \u001b[39mis\u001b[39;00m \u001b[39mNone\u001b[39;00m \u001b[39mor\u001b[39;00m args[\u001b[39m1\u001b[39m] \u001b[39mis\u001b[39;00m \u001b[39mNone\u001b[39;00m:\n\u001b[0;32m     37\u001b[0m     \u001b[39mreturn\u001b[39;00m \u001b[39m0\u001b[39m\n\u001b[1;32m---> 38\u001b[0m \u001b[39mreturn\u001b[39;00m func(\u001b[39m*\u001b[39margs, \u001b[39m*\u001b[39m\u001b[39m*\u001b[39mkwargs)\n",
      "File \u001b[1;32md:\\anaconda\\Lib\\site-packages\\fuzzywuzzy\\utils.py:29\u001b[0m, in \u001b[0;36mcheck_for_equivalence.<locals>.decorator\u001b[1;34m(*args, **kwargs)\u001b[0m\n\u001b[0;32m     27\u001b[0m \u001b[39mif\u001b[39;00m args[\u001b[39m0\u001b[39m] \u001b[39m==\u001b[39m args[\u001b[39m1\u001b[39m]:\n\u001b[0;32m     28\u001b[0m     \u001b[39mreturn\u001b[39;00m \u001b[39m100\u001b[39m\n\u001b[1;32m---> 29\u001b[0m \u001b[39mreturn\u001b[39;00m func(\u001b[39m*\u001b[39margs, \u001b[39m*\u001b[39m\u001b[39m*\u001b[39mkwargs)\n",
      "File \u001b[1;32md:\\anaconda\\Lib\\site-packages\\fuzzywuzzy\\utils.py:47\u001b[0m, in \u001b[0;36mcheck_empty_string.<locals>.decorator\u001b[1;34m(*args, **kwargs)\u001b[0m\n\u001b[0;32m     45\u001b[0m \u001b[39mif\u001b[39;00m \u001b[39mlen\u001b[39m(args[\u001b[39m0\u001b[39m]) \u001b[39m==\u001b[39m \u001b[39m0\u001b[39m \u001b[39mor\u001b[39;00m \u001b[39mlen\u001b[39m(args[\u001b[39m1\u001b[39m]) \u001b[39m==\u001b[39m \u001b[39m0\u001b[39m:\n\u001b[0;32m     46\u001b[0m     \u001b[39mreturn\u001b[39;00m \u001b[39m0\u001b[39m\n\u001b[1;32m---> 47\u001b[0m \u001b[39mreturn\u001b[39;00m func(\u001b[39m*\u001b[39margs, \u001b[39m*\u001b[39m\u001b[39m*\u001b[39mkwargs)\n",
      "File \u001b[1;32md:\\anaconda\\Lib\\site-packages\\fuzzywuzzy\\fuzz.py:28\u001b[0m, in \u001b[0;36mratio\u001b[1;34m(s1, s2)\u001b[0m\n\u001b[0;32m     25\u001b[0m s1, s2 \u001b[39m=\u001b[39m utils\u001b[39m.\u001b[39mmake_type_consistent(s1, s2)\n\u001b[0;32m     27\u001b[0m m \u001b[39m=\u001b[39m SequenceMatcher(\u001b[39mNone\u001b[39;00m, s1, s2)\n\u001b[1;32m---> 28\u001b[0m \u001b[39mreturn\u001b[39;00m utils\u001b[39m.\u001b[39mintr(\u001b[39m100\u001b[39m \u001b[39m*\u001b[39m m\u001b[39m.\u001b[39mratio())\n",
      "File \u001b[1;32md:\\anaconda\\Lib\\difflib.py:619\u001b[0m, in \u001b[0;36mSequenceMatcher.ratio\u001b[1;34m(self)\u001b[0m\n\u001b[0;32m    597\u001b[0m \u001b[39mdef\u001b[39;00m \u001b[39mratio\u001b[39m(\u001b[39mself\u001b[39m):\n\u001b[0;32m    598\u001b[0m \u001b[39m    \u001b[39m\u001b[39m\"\"\"Return a measure of the sequences' similarity (float in [0,1]).\u001b[39;00m\n\u001b[0;32m    599\u001b[0m \n\u001b[0;32m    600\u001b[0m \u001b[39m    Where T is the total number of elements in both sequences, and\u001b[39;00m\n\u001b[1;32m   (...)\u001b[0m\n\u001b[0;32m    616\u001b[0m \u001b[39m    1.0\u001b[39;00m\n\u001b[0;32m    617\u001b[0m \u001b[39m    \"\"\"\u001b[39;00m\n\u001b[1;32m--> 619\u001b[0m     matches \u001b[39m=\u001b[39m \u001b[39msum\u001b[39m(triple[\u001b[39m-\u001b[39m\u001b[39m1\u001b[39m] \u001b[39mfor\u001b[39;00m triple \u001b[39min\u001b[39;00m \u001b[39mself\u001b[39m\u001b[39m.\u001b[39mget_matching_blocks())\n\u001b[0;32m    620\u001b[0m     \u001b[39mreturn\u001b[39;00m _calculate_ratio(matches, \u001b[39mlen\u001b[39m(\u001b[39mself\u001b[39m\u001b[39m.\u001b[39ma) \u001b[39m+\u001b[39m \u001b[39mlen\u001b[39m(\u001b[39mself\u001b[39m\u001b[39m.\u001b[39mb))\n",
      "File \u001b[1;32md:\\anaconda\\Lib\\difflib.py:454\u001b[0m, in \u001b[0;36mSequenceMatcher.get_matching_blocks\u001b[1;34m(self)\u001b[0m\n\u001b[0;32m    452\u001b[0m \u001b[39mwhile\u001b[39;00m queue:\n\u001b[0;32m    453\u001b[0m     alo, ahi, blo, bhi \u001b[39m=\u001b[39m queue\u001b[39m.\u001b[39mpop()\n\u001b[1;32m--> 454\u001b[0m     i, j, k \u001b[39m=\u001b[39m x \u001b[39m=\u001b[39m \u001b[39mself\u001b[39m\u001b[39m.\u001b[39mfind_longest_match(alo, ahi, blo, bhi)\n\u001b[0;32m    455\u001b[0m     \u001b[39m# a[alo:i] vs b[blo:j] unknown\u001b[39;00m\n\u001b[0;32m    456\u001b[0m     \u001b[39m# a[i:i+k] same as b[j:j+k]\u001b[39;00m\n\u001b[0;32m    457\u001b[0m     \u001b[39m# a[i+k:ahi] vs b[j+k:bhi] unknown\u001b[39;00m\n\u001b[0;32m    458\u001b[0m     \u001b[39mif\u001b[39;00m k:   \u001b[39m# if k is 0, there was no matching block\u001b[39;00m\n",
      "File \u001b[1;32md:\\anaconda\\Lib\\difflib.py:385\u001b[0m, in \u001b[0;36mSequenceMatcher.find_longest_match\u001b[1;34m(self, alo, ahi, blo, bhi)\u001b[0m\n\u001b[0;32m    383\u001b[0m \u001b[39mif\u001b[39;00m j \u001b[39m>\u001b[39m\u001b[39m=\u001b[39m bhi:\n\u001b[0;32m    384\u001b[0m     \u001b[39mbreak\u001b[39;00m\n\u001b[1;32m--> 385\u001b[0m k \u001b[39m=\u001b[39m newj2len[j] \u001b[39m=\u001b[39m j2lenget(j\u001b[39m-\u001b[39m\u001b[39m1\u001b[39m, \u001b[39m0\u001b[39m) \u001b[39m+\u001b[39m \u001b[39m1\u001b[39m\n\u001b[0;32m    386\u001b[0m \u001b[39mif\u001b[39;00m k \u001b[39m>\u001b[39m bestsize:\n\u001b[0;32m    387\u001b[0m     besti, bestj, bestsize \u001b[39m=\u001b[39m i\u001b[39m-\u001b[39mk\u001b[39m+\u001b[39m\u001b[39m1\u001b[39m, j\u001b[39m-\u001b[39mk\u001b[39m+\u001b[39m\u001b[39m1\u001b[39m, k\n",
      "\u001b[1;31mKeyboardInterrupt\u001b[0m: "
     ]
    }
   ],
   "source": [
    "%%capture\n",
    "##collecting 800 \n",
    "n_iters=200\n",
    "df_bl=simus(get_train_time(8, 12, 1.8, 2.1, 200000,url,n,0.5,0.9,\n",
    "                           train_negative,positive_sample,model='bl'),n_iters)\n",
    "\n",
    "df_dis_ada=simus(get_train_time(8, 12, 1.8, 2.1, 200000,url,n,0.5,0.9,\n",
    "                           train_negative,positive_sample,model='disjoint_Ada_BF'),n_iters)\n",
    "\n",
    "df_lbf=simus(get_train_time(8, 12, 1.8, 2.1, 200000,url,n,0.5,0.9,\n",
    "                           train_negative,positive_sample,model='learned_BF'),n_iters)\n",
    "\n",
    "df_ada=simus(get_train_time(8, 12, 1.8, 2.1, 200000,url,n,0.5,0.9,\n",
    "                           train_negative,positive_sample,model='Ada_BF'),n_iters)\n",
    "\n",
    "df_bl_para=parallel_simus(get_train_time(8, 12, 1.8, 2.1, 200000,url,n,0.5,0.9,\n",
    "                           train_negative,positive_sample,model='bl'),n_iters,10)\n",
    "\n",
    "df_dis_ada_para=parallel_simus(get_train_time(8, 12, 1.8, 2.1, 200000,url,n,0.5,0.9,\n",
    "                           train_negative,positive_sample,model='disjoint_Ada_BF'),n_iters,10)\n",
    "\n",
    "df_lbf_para=parallel_simus(get_train_time(8, 12, 1.8, 2.1, 200000,url,n,0.5,0.9,\n",
    "                           train_negative,positive_sample,model='learned_BF'),n_iters,10)\n",
    "\n",
    "df_ada_para=parallel_simus(get_train_time(8, 12, 1.8, 2.1, 200000,url,n,0.5,0.9,\n",
    "                           train_negative,positive_sample,model='Ada_BF'),n_iters,10)"
   ]
  },
  {
   "cell_type": "code",
   "execution_count": null,
   "id": "7311ecf5-fc25-413a-b1e0-62920850dfdd",
   "metadata": {},
   "outputs": [],
   "source": [
    "df_bl['method']='bloom_filter'\n",
    "df_dis_ada['method']='disjoint_Ada_BF'\n",
    "df_lbf['method']='learned_bf'\n",
    "df_ada['method']='Ada_BF'\n",
    "\n",
    "df_bl_para['method']='bloom_filter'\n",
    "df_dis_ada_para['method']='disjoint_Ada_BF'\n",
    "df_lbf_para['method']='learned_bf'\n",
    "df_ada_para['method']='Ada_BF'"
   ]
  },
  {
   "cell_type": "code",
   "execution_count": null,
   "id": "aa7916d0-4411-4723-9e84-36b9f4f97930",
   "metadata": {},
   "outputs": [],
   "source": [
    "df_bl['running_method']='seq'\n",
    "df_dis_ada['running_method']='seq'\n",
    "df_lbf['running_method']='seq'\n",
    "df_ada['running_method']='seq'\n",
    "\n",
    "df_bl_para['running_method']='parallel'\n",
    "df_dis_ada_para['running_method']='parallel'\n",
    "df_lbf_para['running_method']='parallel'\n",
    "df_ada_para['running_method']='parallel'"
   ]
  },
  {
   "cell_type": "code",
   "execution_count": null,
   "id": "6d3c3af9-87f3-4338-b771-708ff961be7d",
   "metadata": {},
   "outputs": [],
   "source": [
    "df_bl['stage']='training'\n",
    "df_dis_ada['stage']='training'\n",
    "df_lbf['stage']='training'\n",
    "df_ada['stage']='training'\n",
    "\n",
    "df_bl_para['stage']='training'\n",
    "df_dis_ada_para['stage']='training'\n",
    "df_lbf_para['stage']='training'\n",
    "df_ada_para['stage']='training'"
   ]
  },
  {
   "cell_type": "code",
   "execution_count": null,
   "id": "d828baaf-2282-4160-8d77-1e56aaa4cc27",
   "metadata": {},
   "outputs": [],
   "source": [
    "df_all_train=pd.concat([df_bl, df_dis_ada,df_lbf,df_ada,\n",
    "                        df_bl_para,df_dis_ada_para,df_lbf_para,df_ada_para], ignore_index=True)"
   ]
  },
  {
   "cell_type": "code",
   "execution_count": null,
   "id": "a32f1678-088e-4284-b662-17d4b0ebc227",
   "metadata": {},
   "outputs": [],
   "source": [
    "bloom_filter=get_train_time(8, 12, 1.8, 2.1, 200000,url,n,0.5,0.9,\n",
    "                           train_negative,positive_sample,model='bl')\n",
    "\n",
    "Bloom_Filters_opt, thresholds_opt, non_empty_ix_opt=get_train_time(8, 12, 1.8, 2.1, 200000,url,n,0.5,0.9,\n",
    "                           train_negative,positive_sample,model='disjoint_Ada_BF')\n",
    "\n",
    "bloom_filter_opt,thres_opt=get_train_time(8, 12, 1.8, 2.1, 200000,url,n,0.5,0.9,\n",
    "                           train_negative,positive_sample,model='learned_BF')\n",
    "\n",
    "bloom_filter_opt_ada, thresholds_opt_ada, k_max_opt=get_train_time(8, 12, 1.8, 2.1, 200000,url,n,0.5,0.9,\n",
    "                           train_negative,positive_sample,model='Ada_BF')"
   ]
  },
  {
   "cell_type": "code",
   "execution_count": null,
   "id": "5efdd53f-829b-43dc-8c9c-d1a8cd8ff850",
   "metadata": {},
   "outputs": [],
   "source": [
    "ML_positive = negative_sample.loc[(negative_sample['score'] >= thresholds_opt[-2]), 'url']\n",
    "url_negative = negative_sample.loc[(negative_sample['score'] < thresholds_opt[-2]), 'url']\n",
    "score_negative = negative_sample.loc[(negative_sample['score'] < thresholds_opt[-2]), 'score']\n",
    "test_result = np.zeros(len(url_negative))\n",
    "ss = 0"
   ]
  },
  {
   "cell_type": "code",
   "execution_count": null,
   "id": "fa792653-29eb-4c03-905c-14dc7b59387a",
   "metadata": {},
   "outputs": [],
   "source": [
    "def get_testing_time(ML_positive,url_negative,score_negative,\n",
    "                     test_result,ss,bloom_filter,Bloom_Filters_opt,\n",
    "                     thresholds_opt,non_empty_ix_opt,bloom_filter_opt,\n",
    "                    thres_opt,bloom_filter_opt_ada,thresholds_opt_ada,k_max_opt,model):\n",
    "    if model=='bl':\n",
    "        n1 = bloom_filter.test(url_negative, single_key=False)\n",
    "        print('False positive items: ', sum(n1))\n",
    "        \n",
    "    elif model=='disjoint_Ada_BF':\n",
    "        for score_s, url_s in zip(score_negative, url_negative):\n",
    "            ix = min(np.where(score_s < thresholds_opt)[0]) - 1\n",
    "            if ix >= non_empty_ix_opt:\n",
    "                test_result[ss] = Bloom_Filters_opt[ix].test(url_s)\n",
    "            else:\n",
    "                test_result[ss] = 0\n",
    "            ss += 1\n",
    "        FP_items = sum(test_result) + len(ML_positive)\n",
    "        FPR = FP_items/len(url_negative)\n",
    "        print('False positive items: {}; FPR: {}; Size of quries: {}'.format(FP_items, FPR, len(url_negative)))\n",
    "        \n",
    "    elif model=='learned_BF':\n",
    "        BF_positive = bloom_filter_opt.test(bloom_negative, single_key = False)\n",
    "        FP_items = sum(BF_positive) + len(ML_positive)\n",
    "        print('False positive items: %d' % FP_items)\n",
    "\n",
    "    elif model=='Ada_BF':\n",
    "        for score_s, url_s in zip(score_negative, url_negative):\n",
    "            ix = min(np.where(score_s < thresholds_opt)[0])\n",
    "            # thres = thresholds[ix]\n",
    "            k = k_max_opt - ix\n",
    "            test_result[ss] = bloom_filter_opt.test(url_s, k)\n",
    "            ss += 1\n",
    "        FP_items = sum(test_result) + len(ML_positive)\n",
    "        print('False positive items: %d' % FP_items)\n",
    "       \n",
    "    else:\n",
    "        return('invalid model, model must be one of bl,disjoint_Ada_BF,learned_BF,Ada_BF')\n",
    "    "
   ]
  },
  {
   "cell_type": "code",
   "execution_count": null,
   "id": "ce198e89-5579-4a4d-bb77-e3eb6f91bca0",
   "metadata": {},
   "outputs": [],
   "source": [
    "%%capture\n",
    "##collecting 800 \n",
    "n_iters=200\n",
    "df_bl_test=simus(get_testing_time(ML_positive,url_negative,score_negative,\n",
    "                     test_result,ss,bloom_filter,Bloom_Filters_opt,\n",
    "                     thresholds_opt,non_empty_ix_opt,bloom_filter_opt,\n",
    "                    thres_opt,bloom_filter_opt_ada,thresholds_opt_ada,k_max_opt,'bl'),n_iters)\n",
    "\n",
    "df_dis_ada_test=simus(get_testing_time(ML_positive,url_negative,score_negative,\n",
    "                     test_result,ss,bloom_filter,Bloom_Filters_opt,\n",
    "                     thresholds_opt,non_empty_ix_opt,bloom_filter_opt,\n",
    "                    thres_opt,bloom_filter_opt_ada,thresholds_opt_ada,k_max_opt,'disjoint_Ada_BF'),n_iters)\n",
    "\n",
    "df_lbf_test=simus(get_testing_time(ML_positive,url_negative,score_negative,\n",
    "                     test_result,ss,bloom_filter,Bloom_Filters_opt,\n",
    "                     thresholds_opt,non_empty_ix_opt,bloom_filter_opt,\n",
    "                    thres_opt,bloom_filter_opt_ada,thresholds_opt_ada,k_max_opt,'learned_BF'),n_iters)\n",
    "\n",
    "df_ada_test=simus(get_testing_time(ML_positive,url_negative,score_negative,\n",
    "                     test_result,ss,bloom_filter,Bloom_Filters_opt,\n",
    "                     thresholds_opt,non_empty_ix_opt,bloom_filter_opt,\n",
    "                    thres_opt,bloom_filter_opt_ada,thresholds_opt_ada,k_max_opt,'Ada_BF'),n_iters)\n",
    "\n",
    "df_bl_test_para=parallel_simus(get_testing_time(ML_positive,url_negative,score_negative,\n",
    "                     test_result,ss,bloom_filter,Bloom_Filters_opt,\n",
    "                     thresholds_opt,non_empty_ix_opt,bloom_filter_opt,\n",
    "                    thres_opt,bloom_filter_opt_ada,thresholds_opt_ada,k_max_opt,'bl'),n_iters,10)\n",
    "\n",
    "df_dis_ada_test_para=parallel_simus(get_testing_time(ML_positive,url_negative,score_negative,\n",
    "                     test_result,ss,bloom_filter,Bloom_Filters_opt,\n",
    "                     thresholds_opt,non_empty_ix_opt,bloom_filter_opt,\n",
    "                    thres_opt,bloom_filter_opt_ada,thresholds_opt_ada,k_max_opt,'disjoint_Ada_BF'),n_iters,10)\n",
    "\n",
    "df_lbf_test_para=parallel_simus(get_testing_time(ML_positive,url_negative,score_negative,\n",
    "                     test_result,ss,bloom_filter,Bloom_Filters_opt,\n",
    "                     thresholds_opt,non_empty_ix_opt,bloom_filter_opt,\n",
    "                    thres_opt,bloom_filter_opt_ada,thresholds_opt_ada,k_max_opt,'learned_BF'),n_iters,10)\n",
    "\n",
    "df_ada_test_para=parallel_simus(get_testing_time(ML_positive,url_negative,score_negative,\n",
    "                     test_result,ss,bloom_filter,Bloom_Filters_opt,\n",
    "                     thresholds_opt,non_empty_ix_opt,bloom_filter_opt,\n",
    "                    thres_opt,bloom_filter_opt_ada,thresholds_opt_ada,k_max_opt,'Ada_BF'),n_iters,10)"
   ]
  },
  {
   "cell_type": "code",
   "execution_count": null,
   "id": "10a0b2df-5d59-4c8d-886b-a6b3f6053b74",
   "metadata": {},
   "outputs": [],
   "source": [
    "df_bl_test['method']='bloom_filter'\n",
    "df_dis_ada_test['method']='disjoint_Ada_BF'\n",
    "df_lbf_test['method']='learned_bf'\n",
    "df_ada_test['method']='Ada_BF'\n",
    "\n",
    "df_bl_test_para['method']='bloom_filter'\n",
    "df_dis_ada_test_para['method']='disjoint_Ada_BF'\n",
    "df_lbf_test_para['method']='learned_bf'\n",
    "df_ada_test_para['method']='Ada_BF'"
   ]
  },
  {
   "cell_type": "code",
   "execution_count": null,
   "id": "f4b73cda-0bd5-41f6-ad22-92d265c6f70d",
   "metadata": {},
   "outputs": [],
   "source": [
    "df_bl_test['running_method']='seq'\n",
    "df_dis_ada_test['running_method']='seq'\n",
    "df_lbf_test['running_method']='seq'\n",
    "df_ada_test['running_method']='seq'\n",
    "\n",
    "df_bl_test_para['running_method']='parallel'\n",
    "df_dis_ada_test_para['running_method']='parallel'\n",
    "df_lbf_test_para['running_method']='parallel'\n",
    "df_ada_test_para['running_method']='parallel'"
   ]
  },
  {
   "cell_type": "code",
   "execution_count": null,
   "id": "87160691-3d3a-4d97-994c-d9ef505f2e8b",
   "metadata": {},
   "outputs": [],
   "source": [
    "df_bl_test['stage']='test'\n",
    "df_dis_ada_test['stage']='test'\n",
    "df_lbf_test['stage']='test'\n",
    "df_ada_test['stage']='test'\n",
    "\n",
    "df_bl_test_para['stage']='test'\n",
    "df_dis_ada_test_para['stage']='test'\n",
    "df_lbf_test_para['stage']='test'\n",
    "df_ada_test_para['stage']='test'"
   ]
  },
  {
   "cell_type": "code",
   "execution_count": null,
   "id": "9c99d04b-e0d1-409d-b8c8-5d8fcc28b02d",
   "metadata": {},
   "outputs": [],
   "source": [
    "df_all_test=pd.concat([df_bl_test, df_dis_ada_test,df_lbf_test,df_ada_test,\n",
    "                      df_bl_test_para,df_dis_ada_test_para,df_lbf_test_para,df_ada_test_para], ignore_index=True)"
   ]
  },
  {
   "cell_type": "code",
   "execution_count": null,
   "id": "5ebe9565-859a-41e8-82e7-f95c3b1174af",
   "metadata": {},
   "outputs": [],
   "source": [
    "df_all=pd.concat(df_all_train,df_all_test)"
   ]
  },
  {
   "cell_type": "code",
   "execution_count": null,
   "id": "3e8afdcf-dd2a-49f2-b56c-7d5d7059e108",
   "metadata": {},
   "outputs": [],
   "source": [
    "df_emission=pd.read_csv('emissions.csv')"
   ]
  },
  {
   "cell_type": "code",
   "execution_count": null,
   "id": "16eaaea8-07e8-4add-b849-4643416ab4ba",
   "metadata": {},
   "outputs": [],
   "source": [
    "df_merged = pd.merge(df_emission, df_all, left_index=True, right_index=True)\n",
    "df_merged['running']='cpu'\n",
    "df_merged.to_csv('emissions_bl_cpu.csv', index=False)"
   ]
  }
 ],
 "metadata": {
  "kernelspec": {
   "display_name": "Python 3 (ipykernel)",
   "language": "python",
   "name": "python3"
  },
  "language_info": {
   "codemirror_mode": {
    "name": "ipython",
    "version": 3
   },
   "file_extension": ".py",
   "mimetype": "text/x-python",
   "name": "python",
   "nbconvert_exporter": "python",
   "pygments_lexer": "ipython3",
   "version": "3.10.4"
  }
 },
 "nbformat": 4,
 "nbformat_minor": 5
}
